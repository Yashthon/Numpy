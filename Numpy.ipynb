{
  "nbformat": 4,
  "nbformat_minor": 0,
  "metadata": {
    "colab": {
      "name": "Numpy.ipynb",
      "provenance": [],
      "collapsed_sections": [],
      "authorship_tag": "ABX9TyNnfMnvHzOCcSnUa4AIkgHC",
      "include_colab_link": true
    },
    "kernelspec": {
      "name": "python3",
      "display_name": "Python 3"
    },
    "language_info": {
      "name": "python"
    }
  },
  "cells": [
    {
      "cell_type": "markdown",
      "metadata": {
        "id": "view-in-github",
        "colab_type": "text"
      },
      "source": [
        "<a href=\"https://colab.research.google.com/github/Yashthon/Numpy/blob/main/Numpy.ipynb\" target=\"_parent\"><img src=\"https://colab.research.google.com/assets/colab-badge.svg\" alt=\"Open In Colab\"/></a>"
      ]
    },
    {
      "cell_type": "markdown",
      "source": [
        "# 1. Consider this URL:\n",
        "# https://numpy.org/doc/stable/user/absolute_beginners.html ,\n",
        "# execute all the examples and write your observations."
      ],
      "metadata": {
        "id": "Dzplnw4ndgAE"
      }
    },
    {
      "cell_type": "code",
      "execution_count": 2,
      "metadata": {
        "id": "trMbD3UhdU2S"
      },
      "outputs": [],
      "source": [
        "# install numpy\n",
        "# !pip install numpy or conda install numpy\n",
        "import numpy as np"
      ]
    },
    {
      "cell_type": "code",
      "source": [
        "# arrays\n",
        "a = np.array([1,6,3,8,5,8,4,7,6,2])\n",
        "b = np.array([[1, 2, 3, 4], [5, 6, 7, 8], [9, 10, 11, 12]])"
      ],
      "metadata": {
        "id": "RoQgW-9kd_0h"
      },
      "execution_count": 10,
      "outputs": []
    },
    {
      "cell_type": "code",
      "source": [
        "print(a)\n",
        "print(b)\n",
        "print(a[3])\n",
        "print(b[2])"
      ],
      "metadata": {
        "colab": {
          "base_uri": "https://localhost:8080/",
          "height": 0
        },
        "id": "kBXO2IXNeLrl",
        "outputId": "dd2fb972-46e3-40fd-af8e-137de5049671"
      },
      "execution_count": 13,
      "outputs": [
        {
          "output_type": "stream",
          "name": "stdout",
          "text": [
            "[1 6 3 8 5 8 4 7 6 2]\n",
            "[[ 1  2  3  4]\n",
            " [ 5  6  7  8]\n",
            " [ 9 10 11 12]]\n",
            "8\n",
            "[ 9 10 11 12]\n"
          ]
        }
      ]
    },
    {
      "cell_type": "markdown",
      "source": [
        "This section covers 1D array, 2D array, ndarray, vector, matrix\n"
      ],
      "metadata": {
        "id": "xG4VXPiOfaNw"
      }
    },
    {
      "cell_type": "code",
      "source": [
        "array_example = np.array([[[0, 1, 2, 3],\n",
        "                           [4, 5, 6, 7]],\n",
        "\n",
        "                          [[0, 1, 2, 3],\n",
        "                           [4, 5, 6, 7]],\n",
        "                          [[0 ,1 ,2, 3],\n",
        "                           [4, 5, 6, 7]]])"
      ],
      "metadata": {
        "id": "zUsnrMjRey5l"
      },
      "execution_count": 17,
      "outputs": []
    },
    {
      "cell_type": "code",
      "source": [
        "# TO find dimensions of array\n",
        "array_example.ndim"
      ],
      "metadata": {
        "colab": {
          "base_uri": "https://localhost:8080/",
          "height": 0
        },
        "id": "xs9sJrhGfM9i",
        "outputId": "afbc7a21-62b1-402e-f6d1-8d54ef69d664"
      },
      "execution_count": 18,
      "outputs": [
        {
          "output_type": "execute_result",
          "data": {
            "text/plain": [
              "3"
            ]
          },
          "metadata": {},
          "execution_count": 18
        }
      ]
    },
    {
      "cell_type": "code",
      "source": [
        "# To find number of elements in the array\n",
        "array_example.size\n"
      ],
      "metadata": {
        "colab": {
          "base_uri": "https://localhost:8080/",
          "height": 0
        },
        "id": "Dq_t3GsRgNNo",
        "outputId": "bcc7c908-0ee9-4ce3-ec10-ab1429862d78"
      },
      "execution_count": 19,
      "outputs": [
        {
          "output_type": "execute_result",
          "data": {
            "text/plain": [
              "24"
            ]
          },
          "metadata": {},
          "execution_count": 19
        }
      ]
    },
    {
      "cell_type": "code",
      "source": [
        "# To find shape of the array\n",
        "array_example.shape"
      ],
      "metadata": {
        "colab": {
          "base_uri": "https://localhost:8080/",
          "height": 0
        },
        "id": "MppQ70I7ggMf",
        "outputId": "96c3c793-bd6b-4739-e58c-703153a6b793"
      },
      "execution_count": 20,
      "outputs": [
        {
          "output_type": "execute_result",
          "data": {
            "text/plain": [
              "(3, 2, 4)"
            ]
          },
          "metadata": {},
          "execution_count": 20
        }
      ]
    },
    {
      "cell_type": "markdown",
      "source": [
        "Reshaping of array"
      ],
      "metadata": {
        "id": "tdIKJd3ngp45"
      }
    },
    {
      "cell_type": "code",
      "source": [
        "a = np.arange(6)\n",
        "print(a)"
      ],
      "metadata": {
        "colab": {
          "base_uri": "https://localhost:8080/",
          "height": 0
        },
        "id": "tJFrGKBmgnYa",
        "outputId": "a3cb419b-5cfd-4903-a8c5-b1a559a306d1"
      },
      "execution_count": 22,
      "outputs": [
        {
          "output_type": "stream",
          "name": "stdout",
          "text": [
            "[0 1 2 3 4 5]\n"
          ]
        }
      ]
    },
    {
      "cell_type": "code",
      "source": [
        "b = a.reshape(3,2)\n",
        "print(b)\n",
        "# array a converted to 3x2 matrix"
      ],
      "metadata": {
        "colab": {
          "base_uri": "https://localhost:8080/",
          "height": 0
        },
        "id": "B0eDNT2Thlcl",
        "outputId": "6873f558-69f7-4ff4-ed6d-f5367734b523"
      },
      "execution_count": 23,
      "outputs": [
        {
          "output_type": "stream",
          "name": "stdout",
          "text": [
            "[[0 1]\n",
            " [2 3]\n",
            " [4 5]]\n"
          ]
        }
      ]
    },
    {
      "cell_type": "code",
      "source": [
        "# With np.reshape, you can specify a few optional parameters:\n",
        "np.reshape(a, newshape=(1, 6), order='C')"
      ],
      "metadata": {
        "colab": {
          "base_uri": "https://localhost:8080/",
          "height": 0
        },
        "id": "iVjgqLHshxla",
        "outputId": "c221d097-7cab-433e-a931-f31b6be2cb46"
      },
      "execution_count": 24,
      "outputs": [
        {
          "output_type": "execute_result",
          "data": {
            "text/plain": [
              "array([[0, 1, 2, 3, 4, 5]])"
            ]
          },
          "metadata": {},
          "execution_count": 24
        }
      ]
    },
    {
      "cell_type": "markdown",
      "source": [
        "Convert a 1D array into a 2D array"
      ],
      "metadata": {
        "id": "DFL2hDUqiWAS"
      }
    },
    {
      "cell_type": "code",
      "source": [
        "# This section covers np.newaxis, np.expand_dims\n",
        "a = np.array([1, 2, 3, 4, 5, 6])\n",
        "a.shape"
      ],
      "metadata": {
        "colab": {
          "base_uri": "https://localhost:8080/",
          "height": 0
        },
        "id": "pQI-49hIiI8u",
        "outputId": "3dc2a799-59c8-452f-e018-147ebe2afe7c"
      },
      "execution_count": 25,
      "outputs": [
        {
          "output_type": "execute_result",
          "data": {
            "text/plain": [
              "(6,)"
            ]
          },
          "metadata": {},
          "execution_count": 25
        }
      ]
    },
    {
      "cell_type": "code",
      "source": [
        "# Use np.newaxis to add a new axis:\n",
        "a2 = a[np.newaxis, :]\n",
        "a2.shape"
      ],
      "metadata": {
        "colab": {
          "base_uri": "https://localhost:8080/",
          "height": 0
        },
        "id": "hPndzLH3inod",
        "outputId": "f902d545-61bd-4983-cbbd-32607c1d9031"
      },
      "execution_count": 26,
      "outputs": [
        {
          "output_type": "execute_result",
          "data": {
            "text/plain": [
              "(1, 6)"
            ]
          },
          "metadata": {},
          "execution_count": 26
        }
      ]
    },
    {
      "cell_type": "code",
      "source": [
        "# You can explicitly convert a 1D array with either a row vector or a column vector using np.newaxis.\n",
        "row_vector = a[np.newaxis, :]\n",
        "row_vector.shape"
      ],
      "metadata": {
        "colab": {
          "base_uri": "https://localhost:8080/",
          "height": 0
        },
        "id": "tEXwDzOti4cP",
        "outputId": "36558ca4-08d3-48d4-92cd-c6799ccc1ef8"
      },
      "execution_count": 27,
      "outputs": [
        {
          "output_type": "execute_result",
          "data": {
            "text/plain": [
              "(1, 6)"
            ]
          },
          "metadata": {},
          "execution_count": 27
        }
      ]
    },
    {
      "cell_type": "code",
      "source": [
        "# Or, for a column vector, you can insert an axis along the second dimension:\n",
        "col_vector = a[:, np.newaxis]\n",
        "col_vector.shape"
      ],
      "metadata": {
        "colab": {
          "base_uri": "https://localhost:8080/",
          "height": 0
        },
        "id": "HVFQ95LajDE7",
        "outputId": "89a65c82-9194-49d6-c153-b7a0a48981fa"
      },
      "execution_count": 28,
      "outputs": [
        {
          "output_type": "execute_result",
          "data": {
            "text/plain": [
              "(6, 1)"
            ]
          },
          "metadata": {},
          "execution_count": 28
        }
      ]
    },
    {
      "cell_type": "code",
      "source": [
        "# You can also expand an array by inserting a new axis at a specified position with np.expand_dims.\n",
        "a = np.array([1, 2, 3, 4, 5, 6])\n",
        "a.shape"
      ],
      "metadata": {
        "colab": {
          "base_uri": "https://localhost:8080/",
          "height": 0
        },
        "id": "s-rhfbFOjL6E",
        "outputId": "c31b7ff6-46b3-40af-da3b-c5a405599d4a"
      },
      "execution_count": 29,
      "outputs": [
        {
          "output_type": "execute_result",
          "data": {
            "text/plain": [
              "(6,)"
            ]
          },
          "metadata": {},
          "execution_count": 29
        }
      ]
    },
    {
      "cell_type": "code",
      "source": [
        "# You can use np.expand_dims to add an axis at index position 1 with:\n",
        "b = np.expand_dims(a, axis=1)\n",
        "b.shape"
      ],
      "metadata": {
        "colab": {
          "base_uri": "https://localhost:8080/",
          "height": 0
        },
        "id": "jDXVWEffjUuw",
        "outputId": "fd7e94ee-a9b2-47ea-e8af-52a489813ed8"
      },
      "execution_count": 30,
      "outputs": [
        {
          "output_type": "execute_result",
          "data": {
            "text/plain": [
              "(6, 1)"
            ]
          },
          "metadata": {},
          "execution_count": 30
        }
      ]
    },
    {
      "cell_type": "code",
      "source": [
        "# You can add an axis at index position 0 with:\n",
        "c = np.expand_dims(a, axis=0)\n",
        "c.shape"
      ],
      "metadata": {
        "colab": {
          "base_uri": "https://localhost:8080/",
          "height": 0
        },
        "id": "QhJg2ARFjbGV",
        "outputId": "b4bd379b-e748-4b51-cb55-68d60a2fec58"
      },
      "execution_count": 31,
      "outputs": [
        {
          "output_type": "execute_result",
          "data": {
            "text/plain": [
              "(1, 6)"
            ]
          },
          "metadata": {},
          "execution_count": 31
        }
      ]
    },
    {
      "cell_type": "markdown",
      "source": [
        "Indexing and slicing"
      ],
      "metadata": {
        "id": "PO9lxIAWjkwB"
      }
    },
    {
      "cell_type": "code",
      "source": [
        "# You can index and slice numpy arrays similar to python lists\n",
        "data = np.array([1, 2, 3])\n",
        "data[1]\n"
      ],
      "metadata": {
        "colab": {
          "base_uri": "https://localhost:8080/",
          "height": 0
        },
        "id": "IcPDbP8qjg3d",
        "outputId": "33d29d9e-a658-4bbd-9d24-dcea60efcc4e"
      },
      "execution_count": 32,
      "outputs": [
        {
          "output_type": "execute_result",
          "data": {
            "text/plain": [
              "2"
            ]
          },
          "metadata": {},
          "execution_count": 32
        }
      ]
    },
    {
      "cell_type": "code",
      "source": [
        "data[0:2]"
      ],
      "metadata": {
        "colab": {
          "base_uri": "https://localhost:8080/",
          "height": 0
        },
        "id": "Qriol_YPj5fj",
        "outputId": "2c5b6918-34ff-4509-8ae4-54385eb25e5b"
      },
      "execution_count": 34,
      "outputs": [
        {
          "output_type": "execute_result",
          "data": {
            "text/plain": [
              "array([1, 2])"
            ]
          },
          "metadata": {},
          "execution_count": 34
        }
      ]
    },
    {
      "cell_type": "code",
      "source": [
        "data[1:]"
      ],
      "metadata": {
        "colab": {
          "base_uri": "https://localhost:8080/",
          "height": 0
        },
        "id": "Os_le2Qpj8oR",
        "outputId": "18a52635-0d2d-4982-a9d9-f0b5ed245017"
      },
      "execution_count": 36,
      "outputs": [
        {
          "output_type": "execute_result",
          "data": {
            "text/plain": [
              "array([2, 3])"
            ]
          },
          "metadata": {},
          "execution_count": 36
        }
      ]
    },
    {
      "cell_type": "code",
      "source": [
        "data[-2:]"
      ],
      "metadata": {
        "colab": {
          "base_uri": "https://localhost:8080/",
          "height": 0
        },
        "id": "-NZlsd4KkCzh",
        "outputId": "fb37bc3e-5db0-4c07-dd0f-8d928f5db8f5"
      },
      "execution_count": 37,
      "outputs": [
        {
          "output_type": "execute_result",
          "data": {
            "text/plain": [
              "array([2, 3])"
            ]
          },
          "metadata": {},
          "execution_count": 37
        }
      ]
    },
    {
      "cell_type": "code",
      "source": [
        "a = np.array([[1 , 2, 3, 4], [5, 6, 7, 8], [9, 10, 11, 12]])\n",
        "# to print all values less than 5\n",
        "print(a[a<5])"
      ],
      "metadata": {
        "colab": {
          "base_uri": "https://localhost:8080/",
          "height": 0
        },
        "id": "cIoI3SPKkIkL",
        "outputId": "22777849-3129-4e2f-bdfc-8f498fe44b96"
      },
      "execution_count": 39,
      "outputs": [
        {
          "output_type": "stream",
          "name": "stdout",
          "text": [
            "[1 2 3 4]\n"
          ]
        }
      ]
    },
    {
      "cell_type": "code",
      "source": [
        "five_up = (a>=5)\n",
        "print(a[five_up])"
      ],
      "metadata": {
        "colab": {
          "base_uri": "https://localhost:8080/",
          "height": 0
        },
        "id": "r_o5ZPxOkOF-",
        "outputId": "634cfd35-8dda-455c-998c-485b8d12df48"
      },
      "execution_count": 41,
      "outputs": [
        {
          "output_type": "stream",
          "name": "stdout",
          "text": [
            "[ 5  6  7  8  9 10 11 12]\n"
          ]
        }
      ]
    },
    {
      "cell_type": "code",
      "source": [
        "# elements that are divisible by 2:\n",
        "divisible_by_2 = a[a%2==0]\n",
        "print(divisible_by_2)"
      ],
      "metadata": {
        "colab": {
          "base_uri": "https://localhost:8080/",
          "height": 0
        },
        "id": "J3m6F72BknAY",
        "outputId": "c4b9c73d-e466-468f-ceb2-74a5b3f89fa4"
      },
      "execution_count": 42,
      "outputs": [
        {
          "output_type": "stream",
          "name": "stdout",
          "text": [
            "[ 2  4  6  8 10 12]\n"
          ]
        }
      ]
    },
    {
      "cell_type": "code",
      "source": [
        "# Or you can select elements that satisfy two conditions using the & and | operators:\n",
        "c = a[(a > 2) & (a < 11)]\n",
        "print(c)"
      ],
      "metadata": {
        "colab": {
          "base_uri": "https://localhost:8080/",
          "height": 0
        },
        "id": "fOfJK51XkwSI",
        "outputId": "03f85406-7616-48ca-92c7-e50cdc4c56fb"
      },
      "execution_count": 43,
      "outputs": [
        {
          "output_type": "stream",
          "name": "stdout",
          "text": [
            "[ 3  4  5  6  7  8  9 10]\n"
          ]
        }
      ]
    },
    {
      "cell_type": "code",
      "source": [
        "# You can also make use of the logical operators & and | in order to return boolean values\n",
        "five_up = (a > 5) | (a == 5)\n",
        "print(five_up)"
      ],
      "metadata": {
        "colab": {
          "base_uri": "https://localhost:8080/",
          "height": 0
        },
        "id": "VtOdqiEtk4Dn",
        "outputId": "0d23d99c-4cc8-4d59-95de-37dba85e33e8"
      },
      "execution_count": 44,
      "outputs": [
        {
          "output_type": "stream",
          "name": "stdout",
          "text": [
            "[[False False False False]\n",
            " [ True  True  True  True]\n",
            " [ True  True  True  True]]\n"
          ]
        }
      ]
    },
    {
      "cell_type": "code",
      "source": [
        "# You can also use np.nonzero() to select elements or indices from an array.\n",
        "a = np.array([[1, 2, 3, 4], [5, 6, 7, 8], [9, 10, 11, 12]])\n",
        "b = np.nonzero(a < 5)\n",
        "print(b)"
      ],
      "metadata": {
        "colab": {
          "base_uri": "https://localhost:8080/",
          "height": 0
        },
        "id": "igmZfzZ8lE_k",
        "outputId": "9ea2abe1-d8a4-4d61-ddce-bc4653ed0f5d"
      },
      "execution_count": 45,
      "outputs": [
        {
          "output_type": "stream",
          "name": "stdout",
          "text": [
            "(array([0, 0, 0, 0]), array([0, 1, 2, 3]))\n"
          ]
        }
      ]
    },
    {
      "cell_type": "code",
      "source": [
        "list_of_coordinates= list(zip(b[0], b[1]))\n",
        "for coord in list_of_coordinates:\n",
        "  print(coord)"
      ],
      "metadata": {
        "colab": {
          "base_uri": "https://localhost:8080/",
          "height": 0
        },
        "id": "6iS1rbCslMtU",
        "outputId": "f87a5bcf-9ab7-4db4-bfd8-0783b259c894"
      },
      "execution_count": 46,
      "outputs": [
        {
          "output_type": "stream",
          "name": "stdout",
          "text": [
            "(0, 0)\n",
            "(0, 1)\n",
            "(0, 2)\n",
            "(0, 3)\n"
          ]
        }
      ]
    },
    {
      "cell_type": "code",
      "source": [
        "not_there = np.nonzero(a == 42)\n",
        "print(not_there)"
      ],
      "metadata": {
        "colab": {
          "base_uri": "https://localhost:8080/",
          "height": 0
        },
        "id": "JFVYDm_ymdWW",
        "outputId": "7c75541c-8223-4dcb-ab0e-795cc4e3bc00"
      },
      "execution_count": 47,
      "outputs": [
        {
          "output_type": "stream",
          "name": "stdout",
          "text": [
            "(array([], dtype=int64), array([], dtype=int64))\n"
          ]
        }
      ]
    },
    {
      "cell_type": "markdown",
      "source": [
        "Create an array from existing data"
      ],
      "metadata": {
        "id": "n2_88frImyUv"
      }
    },
    {
      "cell_type": "code",
      "source": [
        "# This section covers slicing and indexing, np.vstack(), np.hstack(), np.hsplit(), .view(), copy()\n",
        "a = np.array([1,  2,  3,  4,  5,  6,  7,  8,  9, 10])\n"
      ],
      "metadata": {
        "id": "GSvsPej2mshU"
      },
      "execution_count": 48,
      "outputs": []
    },
    {
      "cell_type": "code",
      "source": [
        "arr1 = a[3:8]\n",
        "arr1\n",
        "# you grabbed a section of your array from index position 3 through index position 8."
      ],
      "metadata": {
        "colab": {
          "base_uri": "https://localhost:8080/",
          "height": 0
        },
        "id": "dhC8kJ4KnBNL",
        "outputId": "9c7277d0-50d1-4413-9da3-f55e2ba4c4d9"
      },
      "execution_count": 49,
      "outputs": [
        {
          "output_type": "execute_result",
          "data": {
            "text/plain": [
              "array([4, 5, 6, 7, 8])"
            ]
          },
          "metadata": {},
          "execution_count": 49
        }
      ]
    },
    {
      "cell_type": "code",
      "source": [
        "# You can also stack two existing arrays, both vertically and horizontally.\n",
        "a1 = np.array([[1, 1],\n",
        "               [2, 2]])\n",
        "\n",
        "a2 = np.array([[3, 3],\n",
        "               [4, 4]])"
      ],
      "metadata": {
        "id": "bcfd7lTknC_E"
      },
      "execution_count": 50,
      "outputs": []
    },
    {
      "cell_type": "code",
      "source": [
        "# You can stack them vertically with vstack:\n",
        "np.vstack((a1, a2))"
      ],
      "metadata": {
        "colab": {
          "base_uri": "https://localhost:8080/",
          "height": 0
        },
        "id": "71ZsubPRnRoX",
        "outputId": "8b12408a-9e7b-4c27-c882-723ab7af11ad"
      },
      "execution_count": 52,
      "outputs": [
        {
          "output_type": "execute_result",
          "data": {
            "text/plain": [
              "array([[1, 1],\n",
              "       [2, 2],\n",
              "       [3, 3],\n",
              "       [4, 4]])"
            ]
          },
          "metadata": {},
          "execution_count": 52
        }
      ]
    },
    {
      "cell_type": "code",
      "source": [
        "# Or stack them horizontally with hstack:\n",
        "np.hstack((a1, a2))"
      ],
      "metadata": {
        "colab": {
          "base_uri": "https://localhost:8080/",
          "height": 0
        },
        "id": "mW7ROMSSnd70",
        "outputId": "527dec38-e021-49c9-97a8-1a0e500f1a6f"
      },
      "execution_count": 53,
      "outputs": [
        {
          "output_type": "execute_result",
          "data": {
            "text/plain": [
              "array([[1, 1, 3, 3],\n",
              "       [2, 2, 4, 4]])"
            ]
          },
          "metadata": {},
          "execution_count": 53
        }
      ]
    },
    {
      "cell_type": "code",
      "source": [
        "# You can split an array into several smaller arrays using hsplit\n",
        "x = np.arange(1, 25).reshape(2, 12)\n",
        "x"
      ],
      "metadata": {
        "colab": {
          "base_uri": "https://localhost:8080/",
          "height": 0
        },
        "id": "E0L-AUFsoBmj",
        "outputId": "6bc83dc9-3a90-4001-9f24-0c0aad4930b3"
      },
      "execution_count": 54,
      "outputs": [
        {
          "output_type": "execute_result",
          "data": {
            "text/plain": [
              "array([[ 1,  2,  3,  4,  5,  6,  7,  8,  9, 10, 11, 12],\n",
              "       [13, 14, 15, 16, 17, 18, 19, 20, 21, 22, 23, 24]])"
            ]
          },
          "metadata": {},
          "execution_count": 54
        }
      ]
    },
    {
      "cell_type": "code",
      "source": [
        "# If you wanted to split this array into three equally shaped arrays\n",
        "np.hsplit(x, 3)"
      ],
      "metadata": {
        "colab": {
          "base_uri": "https://localhost:8080/",
          "height": 0
        },
        "id": "X4UjnKuQoLxS",
        "outputId": "098f01f8-07db-417e-d25f-54dbd10e5163"
      },
      "execution_count": 55,
      "outputs": [
        {
          "output_type": "execute_result",
          "data": {
            "text/plain": [
              "[array([[ 1,  2,  3,  4],\n",
              "        [13, 14, 15, 16]]), array([[ 5,  6,  7,  8],\n",
              "        [17, 18, 19, 20]]), array([[ 9, 10, 11, 12],\n",
              "        [21, 22, 23, 24]])]"
            ]
          },
          "metadata": {},
          "execution_count": 55
        }
      ]
    },
    {
      "cell_type": "code",
      "source": [
        "# If you wanted to split your array after the third and fourth column\n",
        "np.hsplit(x, (3,4))"
      ],
      "metadata": {
        "colab": {
          "base_uri": "https://localhost:8080/",
          "height": 0
        },
        "id": "2zIzMnLEoS6m",
        "outputId": "2be87dff-c195-462d-9f4a-1d170dc0870c"
      },
      "execution_count": 56,
      "outputs": [
        {
          "output_type": "execute_result",
          "data": {
            "text/plain": [
              "[array([[ 1,  2,  3],\n",
              "        [13, 14, 15]]), array([[ 4],\n",
              "        [16]]), array([[ 5,  6,  7,  8,  9, 10, 11, 12],\n",
              "        [17, 18, 19, 20, 21, 22, 23, 24]])]"
            ]
          },
          "metadata": {},
          "execution_count": 56
        }
      ]
    },
    {
      "cell_type": "code",
      "source": [
        "# You can use the view method to create a new array object that looks at the same data as the original array (a shallow copy).\n",
        "a = np.array([[1, 2, 3, 4], [5, 6, 7, 8], [9, 10, 11, 12]])"
      ],
      "metadata": {
        "id": "UH0AGMHyobim"
      },
      "execution_count": 57,
      "outputs": []
    },
    {
      "cell_type": "code",
      "source": [
        "# create an array b1 by slicing a and modify the first element of b1. This will modify the corresponding element in a as well!\n",
        "b1 = a[0, :]\n",
        "b1"
      ],
      "metadata": {
        "colab": {
          "base_uri": "https://localhost:8080/",
          "height": 0
        },
        "id": "CnEloUK4ojth",
        "outputId": "57af278d-78ef-4d17-ba88-3ba07d5ba777"
      },
      "execution_count": 58,
      "outputs": [
        {
          "output_type": "execute_result",
          "data": {
            "text/plain": [
              "array([1, 2, 3, 4])"
            ]
          },
          "metadata": {},
          "execution_count": 58
        }
      ]
    },
    {
      "cell_type": "code",
      "source": [
        "b1[0] = 99\n",
        "b1"
      ],
      "metadata": {
        "colab": {
          "base_uri": "https://localhost:8080/",
          "height": 0
        },
        "id": "1E-cCO82oryh",
        "outputId": "a93569f7-31a8-4a08-b95e-292eaaf7b6a8"
      },
      "execution_count": 59,
      "outputs": [
        {
          "output_type": "execute_result",
          "data": {
            "text/plain": [
              "array([99,  2,  3,  4])"
            ]
          },
          "metadata": {},
          "execution_count": 59
        }
      ]
    },
    {
      "cell_type": "code",
      "source": [
        "a"
      ],
      "metadata": {
        "colab": {
          "base_uri": "https://localhost:8080/",
          "height": 0
        },
        "id": "wQpBYrRuotzp",
        "outputId": "30a01470-eece-4a1c-dca8-411f448a546c"
      },
      "execution_count": 60,
      "outputs": [
        {
          "output_type": "execute_result",
          "data": {
            "text/plain": [
              "array([[99,  2,  3,  4],\n",
              "       [ 5,  6,  7,  8],\n",
              "       [ 9, 10, 11, 12]])"
            ]
          },
          "metadata": {},
          "execution_count": 60
        }
      ]
    },
    {
      "cell_type": "code",
      "source": [
        "# Using the copy method will make a complete copy of the array and its data (a deep copy).\n",
        "b2 = a.copy()\n",
        "b2"
      ],
      "metadata": {
        "colab": {
          "base_uri": "https://localhost:8080/",
          "height": 0
        },
        "id": "x038hwbDovPY",
        "outputId": "e2286e95-d377-4360-d1e2-d219c20f248a"
      },
      "execution_count": 62,
      "outputs": [
        {
          "output_type": "execute_result",
          "data": {
            "text/plain": [
              "array([[99,  2,  3,  4],\n",
              "       [ 5,  6,  7,  8],\n",
              "       [ 9, 10, 11, 12]])"
            ]
          },
          "metadata": {},
          "execution_count": 62
        }
      ]
    },
    {
      "cell_type": "markdown",
      "source": [
        "Basic array operations"
      ],
      "metadata": {
        "id": "mfG5WxjkpYiv"
      }
    },
    {
      "cell_type": "code",
      "source": [
        "# This section covers addition, subtraction, multiplication, division, and more\n",
        "data = np.array([1, 2])\n",
        "ones = np.ones(2, dtype=int)\n",
        "data + ones"
      ],
      "metadata": {
        "colab": {
          "base_uri": "https://localhost:8080/",
          "height": 0
        },
        "id": "xvgpPjm4o3MA",
        "outputId": "ff194ef2-f288-4185-ff03-98d57c022b5f"
      },
      "execution_count": 65,
      "outputs": [
        {
          "output_type": "execute_result",
          "data": {
            "text/plain": [
              "array([2, 3])"
            ]
          },
          "metadata": {},
          "execution_count": 65
        }
      ]
    },
    {
      "cell_type": "code",
      "source": [
        "data - ones"
      ],
      "metadata": {
        "colab": {
          "base_uri": "https://localhost:8080/",
          "height": 0
        },
        "id": "8aLd9Jcnpe5s",
        "outputId": "f47c52eb-1f57-46f5-f9be-cf73adc95313"
      },
      "execution_count": 66,
      "outputs": [
        {
          "output_type": "execute_result",
          "data": {
            "text/plain": [
              "array([0, 1])"
            ]
          },
          "metadata": {},
          "execution_count": 66
        }
      ]
    },
    {
      "cell_type": "code",
      "source": [
        "data / ones"
      ],
      "metadata": {
        "colab": {
          "base_uri": "https://localhost:8080/",
          "height": 0
        },
        "id": "Da5n2yPuqBQ8",
        "outputId": "053628a9-be0a-460c-b01e-02cc3ac0fa66"
      },
      "execution_count": 67,
      "outputs": [
        {
          "output_type": "execute_result",
          "data": {
            "text/plain": [
              "array([1., 2.])"
            ]
          },
          "metadata": {},
          "execution_count": 67
        }
      ]
    },
    {
      "cell_type": "code",
      "source": [
        "data * ones"
      ],
      "metadata": {
        "colab": {
          "base_uri": "https://localhost:8080/",
          "height": 0
        },
        "id": "k3lPW1hJqAuI",
        "outputId": "802fa94e-ca1f-49ae-9f0e-87f6b09b26aa"
      },
      "execution_count": 68,
      "outputs": [
        {
          "output_type": "execute_result",
          "data": {
            "text/plain": [
              "array([1, 2])"
            ]
          },
          "metadata": {},
          "execution_count": 68
        }
      ]
    },
    {
      "cell_type": "code",
      "source": [
        "# To get the sum of elements\n",
        "a = np.array([1, 2, 3, 4])\n",
        "\n",
        "a.sum()"
      ],
      "metadata": {
        "colab": {
          "base_uri": "https://localhost:8080/",
          "height": 0
        },
        "id": "RkI-5pPxqN6P",
        "outputId": "ee24b5f3-510e-44dd-b51e-bd54c9481925"
      },
      "execution_count": 69,
      "outputs": [
        {
          "output_type": "execute_result",
          "data": {
            "text/plain": [
              "10"
            ]
          },
          "metadata": {},
          "execution_count": 69
        }
      ]
    },
    {
      "cell_type": "code",
      "source": [
        "# To add the rows or the columns in a 2D array, you would specify the axis.\n",
        "b = np.array([[1,1],[2,2]])"
      ],
      "metadata": {
        "id": "zXBkB4R5qUoe"
      },
      "execution_count": 72,
      "outputs": []
    },
    {
      "cell_type": "code",
      "source": [
        "b.sum(axis=0)"
      ],
      "metadata": {
        "colab": {
          "base_uri": "https://localhost:8080/",
          "height": 0
        },
        "id": "DapPavVIqrGD",
        "outputId": "fe4669d6-c624-4b32-da3a-63d41b6195ee"
      },
      "execution_count": 73,
      "outputs": [
        {
          "output_type": "execute_result",
          "data": {
            "text/plain": [
              "array([3, 3])"
            ]
          },
          "metadata": {},
          "execution_count": 73
        }
      ]
    },
    {
      "cell_type": "code",
      "source": [
        "b.sum(axis=1)"
      ],
      "metadata": {
        "colab": {
          "base_uri": "https://localhost:8080/",
          "height": 0
        },
        "id": "Jk9BFhKjquMm",
        "outputId": "9b678747-fa09-4640-b0a6-b2b4f8aadae4"
      },
      "execution_count": 74,
      "outputs": [
        {
          "output_type": "execute_result",
          "data": {
            "text/plain": [
              "array([2, 4])"
            ]
          },
          "metadata": {},
          "execution_count": 74
        }
      ]
    },
    {
      "cell_type": "markdown",
      "source": [
        "Broadcasting"
      ],
      "metadata": {
        "id": "Iz9JLf-zrUwW"
      }
    },
    {
      "cell_type": "code",
      "source": [
        "data = np.array([1.0, 2.0])\n",
        "data * 1.6\n",
        "# Used when, operation between an array and a single number"
      ],
      "metadata": {
        "colab": {
          "base_uri": "https://localhost:8080/",
          "height": 0
        },
        "id": "TQ7cjA6QrR6Y",
        "outputId": "966d4145-1558-4100-b4bc-472e9f1066ec"
      },
      "execution_count": 75,
      "outputs": [
        {
          "output_type": "execute_result",
          "data": {
            "text/plain": [
              "array([1.6, 3.2])"
            ]
          },
          "metadata": {},
          "execution_count": 75
        }
      ]
    },
    {
      "cell_type": "markdown",
      "source": [
        "More useful array operations"
      ],
      "metadata": {
        "id": "PLxT1YQNrvaA"
      }
    },
    {
      "cell_type": "code",
      "source": [
        "data.max()\n"
      ],
      "metadata": {
        "colab": {
          "base_uri": "https://localhost:8080/",
          "height": 0
        },
        "id": "grJnY26qrax2",
        "outputId": "7678e21e-0f5d-4ab0-d746-1f48873d8a27"
      },
      "execution_count": 79,
      "outputs": [
        {
          "output_type": "execute_result",
          "data": {
            "text/plain": [
              "2.0"
            ]
          },
          "metadata": {},
          "execution_count": 79
        }
      ]
    },
    {
      "cell_type": "code",
      "source": [
        "data.min()"
      ],
      "metadata": {
        "colab": {
          "base_uri": "https://localhost:8080/",
          "height": 0
        },
        "id": "RF2-qWpvr3Q_",
        "outputId": "786888a7-63db-4c66-e8e4-bee983cffa64"
      },
      "execution_count": 80,
      "outputs": [
        {
          "output_type": "execute_result",
          "data": {
            "text/plain": [
              "1.0"
            ]
          },
          "metadata": {},
          "execution_count": 80
        }
      ]
    },
    {
      "cell_type": "code",
      "source": [
        "data.sum()\n"
      ],
      "metadata": {
        "colab": {
          "base_uri": "https://localhost:8080/",
          "height": 0
        },
        "id": "9S1eoAPTr8Qv",
        "outputId": "e600d6b1-62bc-4bc9-c031-b568918294fe"
      },
      "execution_count": 81,
      "outputs": [
        {
          "output_type": "execute_result",
          "data": {
            "text/plain": [
              "3.0"
            ]
          },
          "metadata": {},
          "execution_count": 81
        }
      ]
    },
    {
      "cell_type": "code",
      "source": [
        "a = np.array([[0.45053314, 0.17296777, 0.34376245, 0.5510652],\n",
        "              [0.54627315, 0.05093587, 0.40067661, 0.55645993],\n",
        "              [0.12697628, 0.82485143, 0.26590556, 0.56917101]])"
      ],
      "metadata": {
        "id": "QrwUr-U6sDng"
      },
      "execution_count": 82,
      "outputs": []
    },
    {
      "cell_type": "code",
      "source": [
        "a.sum()"
      ],
      "metadata": {
        "colab": {
          "base_uri": "https://localhost:8080/",
          "height": 0
        },
        "id": "aS3PWfSasZHP",
        "outputId": "f8b4d2df-c00b-45b3-fd1d-68fcd8dbb435"
      },
      "execution_count": 83,
      "outputs": [
        {
          "output_type": "execute_result",
          "data": {
            "text/plain": [
              "4.8595784"
            ]
          },
          "metadata": {},
          "execution_count": 83
        }
      ]
    },
    {
      "cell_type": "code",
      "source": [
        "a.min()"
      ],
      "metadata": {
        "colab": {
          "base_uri": "https://localhost:8080/",
          "height": 0
        },
        "id": "wt12zUb9saLB",
        "outputId": "78cfa3e1-04b6-494a-9462-069074ff7705"
      },
      "execution_count": 85,
      "outputs": [
        {
          "output_type": "execute_result",
          "data": {
            "text/plain": [
              "0.05093587"
            ]
          },
          "metadata": {},
          "execution_count": 85
        }
      ]
    },
    {
      "cell_type": "markdown",
      "source": [
        "Creating matrices"
      ],
      "metadata": {
        "id": "kdj32jm8skZr"
      }
    },
    {
      "cell_type": "code",
      "source": [
        "# You can pass Python lists of lists to create a 2-D array (or “matrix”) to represent them in NumPy.\n",
        "data = np.array([[1, 2], [3, 4], [5, 6]])\n",
        "data"
      ],
      "metadata": {
        "colab": {
          "base_uri": "https://localhost:8080/",
          "height": 0
        },
        "id": "J2BCJf_KscfD",
        "outputId": "a7845df5-a3c9-4bcf-963e-7be0afa13354"
      },
      "execution_count": 86,
      "outputs": [
        {
          "output_type": "execute_result",
          "data": {
            "text/plain": [
              "array([[1, 2],\n",
              "       [3, 4],\n",
              "       [5, 6]])"
            ]
          },
          "metadata": {},
          "execution_count": 86
        }
      ]
    },
    {
      "cell_type": "code",
      "source": [
        "# Indexing and slicing operations are useful when you’re manipulating matrices:\n",
        "data[0,1]"
      ],
      "metadata": {
        "colab": {
          "base_uri": "https://localhost:8080/",
          "height": 0
        },
        "id": "gQtdMDyEsqPG",
        "outputId": "b7a0bf62-edd3-4a64-98c9-36805c484ed4"
      },
      "execution_count": 88,
      "outputs": [
        {
          "output_type": "execute_result",
          "data": {
            "text/plain": [
              "2"
            ]
          },
          "metadata": {},
          "execution_count": 88
        }
      ]
    },
    {
      "cell_type": "code",
      "source": [
        "data[1:3]"
      ],
      "metadata": {
        "colab": {
          "base_uri": "https://localhost:8080/",
          "height": 0
        },
        "id": "QXzUazL0svLh",
        "outputId": "8baf749e-e1ea-479f-cce2-9e2a602c4956"
      },
      "execution_count": 89,
      "outputs": [
        {
          "output_type": "execute_result",
          "data": {
            "text/plain": [
              "array([[3, 4],\n",
              "       [5, 6]])"
            ]
          },
          "metadata": {},
          "execution_count": 89
        }
      ]
    },
    {
      "cell_type": "code",
      "source": [
        "data[0:2, 0]"
      ],
      "metadata": {
        "colab": {
          "base_uri": "https://localhost:8080/",
          "height": 0
        },
        "id": "-TpHI_Bes0rr",
        "outputId": "1277623d-a1ce-4d20-85cb-58aacd92cdf9"
      },
      "execution_count": 90,
      "outputs": [
        {
          "output_type": "execute_result",
          "data": {
            "text/plain": [
              "array([1, 3])"
            ]
          },
          "metadata": {},
          "execution_count": 90
        }
      ]
    },
    {
      "cell_type": "code",
      "source": [
        "# You can aggregate matrices the same way you aggregated vectors:\n",
        "data.max()"
      ],
      "metadata": {
        "colab": {
          "base_uri": "https://localhost:8080/",
          "height": 0
        },
        "id": "c875YlVQs4j4",
        "outputId": "7feeeccb-f522-4a62-cea4-7f08738a8ddf"
      },
      "execution_count": 91,
      "outputs": [
        {
          "output_type": "execute_result",
          "data": {
            "text/plain": [
              "6"
            ]
          },
          "metadata": {},
          "execution_count": 91
        }
      ]
    },
    {
      "cell_type": "code",
      "source": [
        "data.min()"
      ],
      "metadata": {
        "colab": {
          "base_uri": "https://localhost:8080/",
          "height": 0
        },
        "id": "UH4RNuVetDWl",
        "outputId": "525481ed-54da-4a88-d31a-5b57524ee871"
      },
      "execution_count": 92,
      "outputs": [
        {
          "output_type": "execute_result",
          "data": {
            "text/plain": [
              "1"
            ]
          },
          "metadata": {},
          "execution_count": 92
        }
      ]
    },
    {
      "cell_type": "code",
      "source": [
        "data.sum()"
      ],
      "metadata": {
        "colab": {
          "base_uri": "https://localhost:8080/",
          "height": 0
        },
        "id": "HpNK18LltFUN",
        "outputId": "ea04a968-2204-47d6-b68d-4d97ed4ca021"
      },
      "execution_count": 93,
      "outputs": [
        {
          "output_type": "execute_result",
          "data": {
            "text/plain": [
              "21"
            ]
          },
          "metadata": {},
          "execution_count": 93
        }
      ]
    },
    {
      "cell_type": "code",
      "source": [
        "# You can aggregate all the values in a matrix and you can aggregate them across columns or rows using the axis parameter.\n",
        "data = np.array([[1, 2], [5, 3], [4, 6]])\n",
        "data"
      ],
      "metadata": {
        "colab": {
          "base_uri": "https://localhost:8080/",
          "height": 0
        },
        "id": "ImwyFjhOtGyT",
        "outputId": "34d87ffc-f261-4e71-9e9c-243b1fe093da"
      },
      "execution_count": 94,
      "outputs": [
        {
          "output_type": "execute_result",
          "data": {
            "text/plain": [
              "array([[1, 2],\n",
              "       [5, 3],\n",
              "       [4, 6]])"
            ]
          },
          "metadata": {},
          "execution_count": 94
        }
      ]
    },
    {
      "cell_type": "code",
      "source": [
        "data.max(axis=0)"
      ],
      "metadata": {
        "colab": {
          "base_uri": "https://localhost:8080/",
          "height": 0
        },
        "id": "3lg5Mb9qtMrt",
        "outputId": "ee4395ea-2fa7-4cda-de94-9d9b528679f9"
      },
      "execution_count": 95,
      "outputs": [
        {
          "output_type": "execute_result",
          "data": {
            "text/plain": [
              "array([5, 6])"
            ]
          },
          "metadata": {},
          "execution_count": 95
        }
      ]
    },
    {
      "cell_type": "code",
      "source": [
        "data.max(axis=1)"
      ],
      "metadata": {
        "colab": {
          "base_uri": "https://localhost:8080/",
          "height": 0
        },
        "id": "VXD1X462tWew",
        "outputId": "3f60beac-439f-4334-9122-c3a02cf23111"
      },
      "execution_count": 98,
      "outputs": [
        {
          "output_type": "execute_result",
          "data": {
            "text/plain": [
              "array([2, 5, 6])"
            ]
          },
          "metadata": {},
          "execution_count": 98
        }
      ]
    },
    {
      "cell_type": "code",
      "source": [
        "# Once you’ve created your matrices, you can add and multiply them using arithmetic operators if you have two matrices that are the same size.\n",
        "data = np.array([[1, 2], [3, 4]])\n",
        "ones = np.array([[1, 1], [1, 1]])\n",
        "data + ones"
      ],
      "metadata": {
        "colab": {
          "base_uri": "https://localhost:8080/",
          "height": 0
        },
        "id": "gU3LxYxftYcG",
        "outputId": "8b0a2dee-f09e-4a3a-809a-e574cc8578f2"
      },
      "execution_count": 99,
      "outputs": [
        {
          "output_type": "execute_result",
          "data": {
            "text/plain": [
              "array([[2, 3],\n",
              "       [4, 5]])"
            ]
          },
          "metadata": {},
          "execution_count": 99
        }
      ]
    },
    {
      "cell_type": "code",
      "source": [
        "# You can do these arithmetic operations on matrices of different sizes, but only if one matrix has only one column or one row. \n",
        "data = np.array([[1, 2], [3, 4], [5, 6]])\n",
        "ones_row = np.array([[1, 1]])\n",
        "data + ones_row"
      ],
      "metadata": {
        "colab": {
          "base_uri": "https://localhost:8080/",
          "height": 0
        },
        "id": "GMrrwyR_tiFo",
        "outputId": "c1ba890d-3149-46fa-9a9d-fb7d22a0ff65"
      },
      "execution_count": 100,
      "outputs": [
        {
          "output_type": "execute_result",
          "data": {
            "text/plain": [
              "array([[2, 3],\n",
              "       [4, 5],\n",
              "       [6, 7]])"
            ]
          },
          "metadata": {},
          "execution_count": 100
        }
      ]
    },
    {
      "cell_type": "code",
      "source": [
        "np.ones((4, 3, 2))"
      ],
      "metadata": {
        "colab": {
          "base_uri": "https://localhost:8080/",
          "height": 0
        },
        "id": "pogDyE9vtpnM",
        "outputId": "b2689abe-240f-457c-afdf-870f5c0e6e6a"
      },
      "execution_count": 101,
      "outputs": [
        {
          "output_type": "execute_result",
          "data": {
            "text/plain": [
              "array([[[1., 1.],\n",
              "        [1., 1.],\n",
              "        [1., 1.]],\n",
              "\n",
              "       [[1., 1.],\n",
              "        [1., 1.],\n",
              "        [1., 1.]],\n",
              "\n",
              "       [[1., 1.],\n",
              "        [1., 1.],\n",
              "        [1., 1.]],\n",
              "\n",
              "       [[1., 1.],\n",
              "        [1., 1.],\n",
              "        [1., 1.]]])"
            ]
          },
          "metadata": {},
          "execution_count": 101
        }
      ]
    },
    {
      "cell_type": "code",
      "source": [
        "# There are often instances where we want NumPy to initialize the values of an array. \n",
        "# NumPy offers functions like ones() and zeros(), and the random.Generator class for random number generation for that. \n",
        "# All you need to do is pass in the number of elements you want it to generate:\n",
        "np.ones(3)"
      ],
      "metadata": {
        "colab": {
          "base_uri": "https://localhost:8080/",
          "height": 0
        },
        "id": "Q7_sPOlVtwlJ",
        "outputId": "4418188f-3411-42a9-b504-3b0ea795881b"
      },
      "execution_count": 102,
      "outputs": [
        {
          "output_type": "execute_result",
          "data": {
            "text/plain": [
              "array([1., 1., 1.])"
            ]
          },
          "metadata": {},
          "execution_count": 102
        }
      ]
    },
    {
      "cell_type": "code",
      "source": [
        "np.zeros(3)"
      ],
      "metadata": {
        "colab": {
          "base_uri": "https://localhost:8080/",
          "height": 0
        },
        "id": "DiCkC6SKt-MS",
        "outputId": "d7fa833d-3f15-43b5-b052-971ab91949eb"
      },
      "execution_count": 103,
      "outputs": [
        {
          "output_type": "execute_result",
          "data": {
            "text/plain": [
              "array([0., 0., 0.])"
            ]
          },
          "metadata": {},
          "execution_count": 103
        }
      ]
    },
    {
      "cell_type": "code",
      "source": [
        "rng = np.random.default_rng(0)\n",
        "rng.random(3)"
      ],
      "metadata": {
        "colab": {
          "base_uri": "https://localhost:8080/",
          "height": 0
        },
        "id": "AOVdJojTt_LN",
        "outputId": "f2a8d89f-0b45-4c32-918b-d73f3ba802e5"
      },
      "execution_count": 104,
      "outputs": [
        {
          "output_type": "execute_result",
          "data": {
            "text/plain": [
              "array([0.63696169, 0.26978671, 0.04097352])"
            ]
          },
          "metadata": {},
          "execution_count": 104
        }
      ]
    },
    {
      "cell_type": "code",
      "source": [
        "# You can also use ones(), zeros(), and random() to create a 2D array if you give them a tuple describing the dimensions of the matrix:\n",
        "np.ones((3, 2))"
      ],
      "metadata": {
        "colab": {
          "base_uri": "https://localhost:8080/",
          "height": 0
        },
        "id": "M8FJovivuH_e",
        "outputId": "2897005b-ac38-4ffb-fdd6-e81fb1d6c7d1"
      },
      "execution_count": 105,
      "outputs": [
        {
          "output_type": "execute_result",
          "data": {
            "text/plain": [
              "array([[1., 1.],\n",
              "       [1., 1.],\n",
              "       [1., 1.]])"
            ]
          },
          "metadata": {},
          "execution_count": 105
        }
      ]
    },
    {
      "cell_type": "code",
      "source": [
        "np.zeros((3,2))"
      ],
      "metadata": {
        "colab": {
          "base_uri": "https://localhost:8080/",
          "height": 0
        },
        "id": "zYwWWIbUuSqI",
        "outputId": "67ccf671-724f-4505-9fdf-f6c81d7437e2"
      },
      "execution_count": 106,
      "outputs": [
        {
          "output_type": "execute_result",
          "data": {
            "text/plain": [
              "array([[0., 0.],\n",
              "       [0., 0.],\n",
              "       [0., 0.]])"
            ]
          },
          "metadata": {},
          "execution_count": 106
        }
      ]
    },
    {
      "cell_type": "code",
      "source": [
        "rng.random((3,2))"
      ],
      "metadata": {
        "colab": {
          "base_uri": "https://localhost:8080/",
          "height": 0
        },
        "id": "5v-36MXKuUvY",
        "outputId": "f262c79a-4580-42fb-bba3-90a817b5705a"
      },
      "execution_count": 107,
      "outputs": [
        {
          "output_type": "execute_result",
          "data": {
            "text/plain": [
              "array([[0.01652764, 0.81327024],\n",
              "       [0.91275558, 0.60663578],\n",
              "       [0.72949656, 0.54362499]])"
            ]
          },
          "metadata": {},
          "execution_count": 107
        }
      ]
    },
    {
      "cell_type": "code",
      "source": [
        "# Generating random numbers\n",
        "# You can generate a 2 x 4 array of random integers between 0 and 4 with:\n",
        "rng.integers(5, size=(2,4))"
      ],
      "metadata": {
        "colab": {
          "base_uri": "https://localhost:8080/",
          "height": 0
        },
        "id": "dA-jdnyruWte",
        "outputId": "8aa3b108-4681-40ac-bd59-ee36eadfc52b"
      },
      "execution_count": 109,
      "outputs": [
        {
          "output_type": "execute_result",
          "data": {
            "text/plain": [
              "array([[2, 4, 1, 4],\n",
              "       [3, 0, 1, 4]])"
            ]
          },
          "metadata": {},
          "execution_count": 109
        }
      ]
    },
    {
      "cell_type": "markdown",
      "source": [
        "How to get unique items and counts"
      ],
      "metadata": {
        "id": "xAq2TC-Xuwld"
      }
    },
    {
      "cell_type": "code",
      "source": [
        "# This section covers np.unique()\n",
        "a_2d = np.array([11, 11, 12, 13, 14, 15, 16, 17, 12, 13, 11, 14, 18, 19, 20])\n"
      ],
      "metadata": {
        "id": "Om2kWe6kumYv"
      },
      "execution_count": 114,
      "outputs": []
    },
    {
      "cell_type": "code",
      "source": [
        "# you can use np.unique to print the unique values in your array:\n",
        "unique_values = np.unique(a_2d)\n",
        "print(unique_values)"
      ],
      "metadata": {
        "colab": {
          "base_uri": "https://localhost:8080/",
          "height": 0
        },
        "id": "LW-J8Wsyu71h",
        "outputId": "f484b419-b66a-45e3-821e-c9f54cf0d9a6"
      },
      "execution_count": 115,
      "outputs": [
        {
          "output_type": "stream",
          "name": "stdout",
          "text": [
            "[11 12 13 14 15 16 17 18 19 20]\n"
          ]
        }
      ]
    },
    {
      "cell_type": "code",
      "source": [
        "# If you want to get the unique rows or columns, make sure to pass the axis argument. To find the unique rows, specify axis=0 and for columns, specify axis=1.\n",
        "unique_rows = np.unique(a_2d, axis=0)\n",
        "print(unique_rows)"
      ],
      "metadata": {
        "colab": {
          "base_uri": "https://localhost:8080/",
          "height": 0
        },
        "id": "w7QtpzB2vElt",
        "outputId": "a44f8157-c36c-48a6-ecd4-9a9c98397dee"
      },
      "execution_count": 116,
      "outputs": [
        {
          "output_type": "stream",
          "name": "stdout",
          "text": [
            "[11 12 13 14 15 16 17 18 19 20]\n"
          ]
        }
      ]
    },
    {
      "cell_type": "code",
      "source": [
        "# To get the unique rows, index position, and occurrence count, you can use:\n",
        "unique_rows, indices, occurrence_count = np.unique(a_2d, axis=0, return_counts=True, return_index=True)\n",
        "print(unique_rows)"
      ],
      "metadata": {
        "colab": {
          "base_uri": "https://localhost:8080/",
          "height": 0
        },
        "id": "aaKpTXV3vMLR",
        "outputId": "649b78b5-4d85-40ff-c86e-133d2f9b7f47"
      },
      "execution_count": 117,
      "outputs": [
        {
          "output_type": "stream",
          "name": "stdout",
          "text": [
            "[11 12 13 14 15 16 17 18 19 20]\n"
          ]
        }
      ]
    },
    {
      "cell_type": "markdown",
      "source": [
        "Transposing and reshaping a matrix"
      ],
      "metadata": {
        "id": "wrSqDwI5v0hI"
      }
    },
    {
      "cell_type": "code",
      "source": [
        "# This section covers arr.reshape(), arr.transpose(), arr.T\n",
        "data.reshape(2,3)"
      ],
      "metadata": {
        "colab": {
          "base_uri": "https://localhost:8080/",
          "height": 0
        },
        "id": "Snn3ekyWvxrV",
        "outputId": "273a5481-5e46-4fa8-e833-e77cb36f72f9"
      },
      "execution_count": 118,
      "outputs": [
        {
          "output_type": "execute_result",
          "data": {
            "text/plain": [
              "array([[1, 2, 3],\n",
              "       [4, 5, 6]])"
            ]
          },
          "metadata": {},
          "execution_count": 118
        }
      ]
    },
    {
      "cell_type": "code",
      "source": [
        "data.reshape(3,2)"
      ],
      "metadata": {
        "colab": {
          "base_uri": "https://localhost:8080/",
          "height": 0
        },
        "id": "miehw0-Rv7r5",
        "outputId": "f8d367d4-1692-4958-e9b7-388c15a8888f"
      },
      "execution_count": 119,
      "outputs": [
        {
          "output_type": "execute_result",
          "data": {
            "text/plain": [
              "array([[1, 2],\n",
              "       [3, 4],\n",
              "       [5, 6]])"
            ]
          },
          "metadata": {},
          "execution_count": 119
        }
      ]
    },
    {
      "cell_type": "code",
      "source": [
        "# You can also use .transpose() to reverse or change the axes of an array according to the values you specify.\n",
        "arr = np.arange(6).reshape((2,3))\n",
        "arr"
      ],
      "metadata": {
        "colab": {
          "base_uri": "https://localhost:8080/",
          "height": 0
        },
        "id": "W4YEa__mv-IV",
        "outputId": "54a16ebf-c9b8-4636-8915-29d461e70c37"
      },
      "execution_count": 121,
      "outputs": [
        {
          "output_type": "execute_result",
          "data": {
            "text/plain": [
              "array([[0, 1, 2],\n",
              "       [3, 4, 5]])"
            ]
          },
          "metadata": {},
          "execution_count": 121
        }
      ]
    },
    {
      "cell_type": "code",
      "source": [
        "arr.transpose()"
      ],
      "metadata": {
        "colab": {
          "base_uri": "https://localhost:8080/",
          "height": 0
        },
        "id": "yrXtm1G2wF2D",
        "outputId": "46c96fb3-d2b1-4cdc-ac5b-58b1c990ae33"
      },
      "execution_count": 122,
      "outputs": [
        {
          "output_type": "execute_result",
          "data": {
            "text/plain": [
              "array([[0, 3],\n",
              "       [1, 4],\n",
              "       [2, 5]])"
            ]
          },
          "metadata": {},
          "execution_count": 122
        }
      ]
    },
    {
      "cell_type": "code",
      "source": [
        "# You can also use arr.T:\n",
        "arr.T"
      ],
      "metadata": {
        "colab": {
          "base_uri": "https://localhost:8080/",
          "height": 0
        },
        "id": "Mz5MEll0wP8E",
        "outputId": "c8481464-cd4c-421f-eaa5-e0efb553a572"
      },
      "execution_count": 123,
      "outputs": [
        {
          "output_type": "execute_result",
          "data": {
            "text/plain": [
              "array([[0, 3],\n",
              "       [1, 4],\n",
              "       [2, 5]])"
            ]
          },
          "metadata": {},
          "execution_count": 123
        }
      ]
    },
    {
      "cell_type": "markdown",
      "source": [
        "How to reverse an array"
      ],
      "metadata": {
        "id": "Rif2rqmXwgeW"
      }
    },
    {
      "cell_type": "code",
      "source": [
        "# This section covers np.flip()\n",
        "\n",
        "# Reversing a 1D array\n",
        "arr = np.array([1,2,3,4,5,6,7,8])"
      ],
      "metadata": {
        "id": "xlBliurOwVqy"
      },
      "execution_count": 125,
      "outputs": []
    },
    {
      "cell_type": "code",
      "source": [
        "# You can reverse it with:\n",
        "reversed_arr = np.flip(arr)"
      ],
      "metadata": {
        "id": "DDrlEZFXxHKo"
      },
      "execution_count": 126,
      "outputs": []
    },
    {
      "cell_type": "code",
      "source": [
        "# If you want to print your reversed array\n",
        "print('Reversed Array: ', reversed_arr)"
      ],
      "metadata": {
        "colab": {
          "base_uri": "https://localhost:8080/",
          "height": 0
        },
        "id": "EFLDv4WVxZCT",
        "outputId": "337f0918-f1be-4de4-a14d-ec74d1d3b461"
      },
      "execution_count": 127,
      "outputs": [
        {
          "output_type": "stream",
          "name": "stdout",
          "text": [
            "Reversed Array:  [8 7 6 5 4 3 2 1]\n"
          ]
        }
      ]
    },
    {
      "cell_type": "code",
      "source": [
        "# Reversing a 2D array\n",
        "# A 2D array works much the same way.\n",
        "# If you start with this array:\n",
        "arr_2d = np.array([[1, 2, 3, 4], [5, 6, 7, 8], [9, 10, 11, 12]])"
      ],
      "metadata": {
        "id": "cOUmEahyyBzQ"
      },
      "execution_count": 128,
      "outputs": []
    },
    {
      "cell_type": "code",
      "source": [
        "# You can reverse the content in all of the rows and all of the columns with:\n",
        "reversed_arr = np.flip(arr_2d)\n",
        "print(reversed_arr)"
      ],
      "metadata": {
        "colab": {
          "base_uri": "https://localhost:8080/",
          "height": 0
        },
        "id": "SfD0q5FMyPOV",
        "outputId": "4120835d-d3d3-467b-8205-df9a89cd5c3e"
      },
      "execution_count": 129,
      "outputs": [
        {
          "output_type": "stream",
          "name": "stdout",
          "text": [
            "[[12 11 10  9]\n",
            " [ 8  7  6  5]\n",
            " [ 4  3  2  1]]\n"
          ]
        }
      ]
    },
    {
      "cell_type": "code",
      "source": [
        "# You can easily reverse only the rows with:\n",
        "reversed_arr_rows = np.flip(arr_2d, axis=0)\n",
        "print(reversed_arr_rows)"
      ],
      "metadata": {
        "colab": {
          "base_uri": "https://localhost:8080/",
          "height": 0
        },
        "id": "4qmrM_izydkg",
        "outputId": "c2dad26d-4438-49fa-f148-fc59049d3781"
      },
      "execution_count": 130,
      "outputs": [
        {
          "output_type": "stream",
          "name": "stdout",
          "text": [
            "[[ 9 10 11 12]\n",
            " [ 5  6  7  8]\n",
            " [ 1  2  3  4]]\n"
          ]
        }
      ]
    },
    {
      "cell_type": "code",
      "source": [
        "# Or reverse only the columns with:\n",
        "reversed_arr_columns = np.flip(arr_2d, axis=1)\n",
        "print(reversed_arr_columns)"
      ],
      "metadata": {
        "colab": {
          "base_uri": "https://localhost:8080/",
          "height": 0
        },
        "id": "SO6KuuPWy1dM",
        "outputId": "50b1629b-be30-4a83-c50f-284e8fdea0a5"
      },
      "execution_count": 132,
      "outputs": [
        {
          "output_type": "stream",
          "name": "stdout",
          "text": [
            "[[ 4  3  2  1]\n",
            " [ 8  7  6  5]\n",
            " [12 11 10  9]]\n"
          ]
        }
      ]
    },
    {
      "cell_type": "code",
      "source": [
        "# You can also reverse the contents of only one column or row.\n",
        "arr_2d[1] = np.flip(arr_2d[1])\n",
        "print(arr_2d)"
      ],
      "metadata": {
        "colab": {
          "base_uri": "https://localhost:8080/",
          "height": 0
        },
        "id": "pIyMe_9ly6PP",
        "outputId": "c559e7b4-7ec3-4dca-f7bf-e0cec085a232"
      },
      "execution_count": 133,
      "outputs": [
        {
          "output_type": "stream",
          "name": "stdout",
          "text": [
            "[[ 1  2  3  4]\n",
            " [ 8  7  6  5]\n",
            " [ 9 10 11 12]]\n"
          ]
        }
      ]
    },
    {
      "cell_type": "code",
      "source": [
        "# You can also reverse the column at index position 1 (the second column):\n",
        "arr_2d[:,1] = np.flip(arr_2d[:,1])\n",
        "print(arr_2d)"
      ],
      "metadata": {
        "colab": {
          "base_uri": "https://localhost:8080/",
          "height": 0
        },
        "id": "e3ddLnHSzDeO",
        "outputId": "ea46bcff-d227-442c-8347-e6942e170b8d"
      },
      "execution_count": 134,
      "outputs": [
        {
          "output_type": "stream",
          "name": "stdout",
          "text": [
            "[[ 1 10  3  4]\n",
            " [ 8  7  6  5]\n",
            " [ 9  2 11 12]]\n"
          ]
        }
      ]
    },
    {
      "cell_type": "markdown",
      "source": [
        "Reshaping and flattening multidimensional arrays"
      ],
      "metadata": {
        "id": "L5Z7UxKqzSoZ"
      }
    },
    {
      "cell_type": "code",
      "source": [
        "# This section covers .flatten(), ravel()\n",
        "x = np.array([[1 , 2, 3, 4], [5, 6, 7, 8], [9, 10, 11, 12]])"
      ],
      "metadata": {
        "id": "B_cBnojozN9z"
      },
      "execution_count": 135,
      "outputs": []
    },
    {
      "cell_type": "code",
      "source": [
        "x.flatten()"
      ],
      "metadata": {
        "colab": {
          "base_uri": "https://localhost:8080/",
          "height": 0
        },
        "id": "AV9xGjiFziD8",
        "outputId": "d974641a-0712-47cc-9678-0f27cd0133a0"
      },
      "execution_count": 136,
      "outputs": [
        {
          "output_type": "execute_result",
          "data": {
            "text/plain": [
              "array([ 1,  2,  3,  4,  5,  6,  7,  8,  9, 10, 11, 12])"
            ]
          },
          "metadata": {},
          "execution_count": 136
        }
      ]
    },
    {
      "cell_type": "code",
      "source": [
        "# When you use flatten, changes to your new array won’t change the parent array.\n",
        "a1 = x.flatten()\n",
        "a1[0] = 99\n",
        "print(x) # original array"
      ],
      "metadata": {
        "colab": {
          "base_uri": "https://localhost:8080/",
          "height": 0
        },
        "id": "TyuxlPwRzjpX",
        "outputId": "8a79e2e9-66c7-4cb4-c8a6-838dd53c1d34"
      },
      "execution_count": 137,
      "outputs": [
        {
          "output_type": "stream",
          "name": "stdout",
          "text": [
            "[[ 1  2  3  4]\n",
            " [ 5  6  7  8]\n",
            " [ 9 10 11 12]]\n"
          ]
        }
      ]
    },
    {
      "cell_type": "code",
      "source": [
        "print(a1)"
      ],
      "metadata": {
        "colab": {
          "base_uri": "https://localhost:8080/",
          "height": 0
        },
        "id": "FKX5Rn6LzzNr",
        "outputId": "509c4b4b-d5ef-4229-93d3-2a5e6d0200be"
      },
      "execution_count": 138,
      "outputs": [
        {
          "output_type": "stream",
          "name": "stdout",
          "text": [
            "[99  2  3  4  5  6  7  8  9 10 11 12]\n"
          ]
        }
      ]
    },
    {
      "cell_type": "code",
      "source": [
        "# But when you use ravel, the changes you make to the new array will affect the parent array.\n",
        "a2 = x.ravel()\n",
        "a2[0] = 98\n",
        "print(x) # Original array"
      ],
      "metadata": {
        "colab": {
          "base_uri": "https://localhost:8080/",
          "height": 0
        },
        "id": "hNUvEKvUz3c9",
        "outputId": "fba23768-342c-47f1-b9d7-b731f97eaece"
      },
      "execution_count": 139,
      "outputs": [
        {
          "output_type": "stream",
          "name": "stdout",
          "text": [
            "[[98  2  3  4]\n",
            " [ 5  6  7  8]\n",
            " [ 9 10 11 12]]\n"
          ]
        }
      ]
    },
    {
      "cell_type": "code",
      "source": [
        "print(a2)"
      ],
      "metadata": {
        "colab": {
          "base_uri": "https://localhost:8080/",
          "height": 0
        },
        "id": "oRTNqsEb0HY0",
        "outputId": "9c956eb0-2bf8-4cc2-a59c-9f05c4e846b5"
      },
      "execution_count": 140,
      "outputs": [
        {
          "output_type": "stream",
          "name": "stdout",
          "text": [
            "[98  2  3  4  5  6  7  8  9 10 11 12]\n"
          ]
        }
      ]
    },
    {
      "cell_type": "markdown",
      "source": [
        "How to access the docstring for more information"
      ],
      "metadata": {
        "id": "g35g862q0a0-"
      }
    },
    {
      "cell_type": "code",
      "source": [
        "help(max) # To find what max() function does"
      ],
      "metadata": {
        "colab": {
          "base_uri": "https://localhost:8080/",
          "height": 0
        },
        "id": "b4sL05GN0IyX",
        "outputId": "250f4062-6113-4449-8c63-09a2fac112d9"
      },
      "execution_count": 141,
      "outputs": [
        {
          "output_type": "stream",
          "name": "stdout",
          "text": [
            "Help on built-in function max in module builtins:\n",
            "\n",
            "max(...)\n",
            "    max(iterable, *[, default=obj, key=func]) -> value\n",
            "    max(arg1, arg2, *args, *[, key=func]) -> value\n",
            "    \n",
            "    With a single iterable argument, return its biggest item. The\n",
            "    default keyword-only argument specifies an object to return if\n",
            "    the provided iterable is empty.\n",
            "    With two or more arguments, return the largest argument.\n",
            "\n"
          ]
        }
      ]
    },
    {
      "cell_type": "code",
      "source": [
        "max? # same as help"
      ],
      "metadata": {
        "id": "sl4GvxkZ0jIY"
      },
      "execution_count": 142,
      "outputs": []
    },
    {
      "cell_type": "code",
      "source": [
        "a = np.array([1, 2, 3, 4, 5, 6])"
      ],
      "metadata": {
        "id": "Jxg-ox9_0oqQ"
      },
      "execution_count": 143,
      "outputs": []
    },
    {
      "cell_type": "code",
      "source": [
        "a?"
      ],
      "metadata": {
        "id": "Tp5PFHQV0zUU"
      },
      "execution_count": 144,
      "outputs": []
    },
    {
      "cell_type": "markdown",
      "source": [
        "**Working with mathematical formulas**\n",
        "How to save and load NumPy objects"
      ],
      "metadata": {
        "id": "B8SeRG4V0_OC"
      }
    },
    {
      "cell_type": "code",
      "source": [
        "# This section covers np.save, np.savez, np.savetxt, np.load, np.loadtxt\n",
        "a = np.array([1, 2, 3, 4, 5, 6])"
      ],
      "metadata": {
        "id": "Rg6igVI601ZP"
      },
      "execution_count": 145,
      "outputs": []
    },
    {
      "cell_type": "code",
      "source": [
        "np.save('numpy',a)"
      ],
      "metadata": {
        "id": "-1tO4g4l1cc0"
      },
      "execution_count": 146,
      "outputs": []
    },
    {
      "cell_type": "code",
      "source": [
        "b = np.load('numpy.npy')"
      ],
      "metadata": {
        "id": "PhbD-Wlw1iSn"
      },
      "execution_count": 147,
      "outputs": []
    },
    {
      "cell_type": "code",
      "source": [
        "# To check the array\n",
        "print(b)"
      ],
      "metadata": {
        "colab": {
          "base_uri": "https://localhost:8080/",
          "height": 0
        },
        "id": "E9v-V5Gx1rkB",
        "outputId": "69cab556-0d67-4051-bd59-3d61fc4977a0"
      },
      "execution_count": 148,
      "outputs": [
        {
          "output_type": "stream",
          "name": "stdout",
          "text": [
            "[1 2 3 4 5 6]\n"
          ]
        }
      ]
    },
    {
      "cell_type": "code",
      "source": [
        "# You can save a NumPy array as a plain text file like a .csv or .txt file with np.savetxt.\n",
        "csv_arr = np.array([1, 2, 3, 4, 5, 6, 7, 8])"
      ],
      "metadata": {
        "id": "L4nNebZy1wlU"
      },
      "execution_count": 149,
      "outputs": []
    },
    {
      "cell_type": "code",
      "source": [
        "# You can easily save it as a .csv file with the name “new_file.csv” like this:\n",
        "np.savetxt('new_file.csv', csv_arr)"
      ],
      "metadata": {
        "id": "bPOiZt_B12l6"
      },
      "execution_count": 150,
      "outputs": []
    },
    {
      "cell_type": "code",
      "source": [
        "# You can quickly and easily load your saved text file using loadtxt():\n",
        "np.loadtxt('new_file.csv')"
      ],
      "metadata": {
        "colab": {
          "base_uri": "https://localhost:8080/",
          "height": 0
        },
        "id": "yZ0jl7Nh2GJd",
        "outputId": "854db584-133c-4207-b41d-a1419dd0c728"
      },
      "execution_count": 151,
      "outputs": [
        {
          "output_type": "execute_result",
          "data": {
            "text/plain": [
              "array([1., 2., 3., 4., 5., 6., 7., 8.])"
            ]
          },
          "metadata": {},
          "execution_count": 151
        }
      ]
    },
    {
      "cell_type": "markdown",
      "source": [
        "You can quickly and easily load your saved text file using loadtxt():"
      ],
      "metadata": {
        "id": "KQshpOnd2X9T"
      }
    },
    {
      "cell_type": "code",
      "source": [
        ""
      ],
      "metadata": {
        "colab": {
          "base_uri": "https://localhost:8080/",
          "height": 0
        },
        "id": "hUVElLCk2TUn",
        "outputId": "6c9a1446-38cc-4f2a-9fd0-78aa2b5fa07e"
      },
      "execution_count": 157,
      "outputs": [
        {
          "output_type": "stream",
          "name": "stdout",
          "text": [
            "\u001b[31mERROR: Could not find a version that satisfies the requirement music.csv (from versions: none)\u001b[0m\n",
            "\u001b[31mERROR: No matching distribution found for music.csv\u001b[0m\n"
          ]
        }
      ]
    },
    {
      "cell_type": "code",
      "source": [
        "a = np.array([['Billie Holiday', 'Jazz' ,1300000 ,27000000],\n",
        " ['Jimmie Hendrix', 'Rock', 2700000 ,70000000],\n",
        " ['Miles Davis', 'Jazz', 1500000 ,48000000],\n",
        " ['SIA', 'Pop', 2000000,74000000]])"
      ],
      "metadata": {
        "id": "p5GGUcKD2sgv"
      },
      "execution_count": 161,
      "outputs": []
    },
    {
      "cell_type": "code",
      "source": [
        "np.savetxt('music.csv', a, fmt=\"%s\")"
      ],
      "metadata": {
        "id": "uacAX6nb_20R"
      },
      "execution_count": 163,
      "outputs": []
    },
    {
      "cell_type": "code",
      "source": [
        "import pandas as pd\n",
        "x = pd.read_csv('music.csv', header=0).values\n",
        "print(x)"
      ],
      "metadata": {
        "colab": {
          "base_uri": "https://localhost:8080/",
          "height": 0
        },
        "id": "o7ag9OaFAPxM",
        "outputId": "9a6ac1e8-6145-4237-8ec1-a7a306d27720"
      },
      "execution_count": 166,
      "outputs": [
        {
          "output_type": "stream",
          "name": "stdout",
          "text": [
            "[['Jimmie Hendrix Rock 2700000 70000000']\n",
            " ['Miles Davis Jazz 1500000 48000000']\n",
            " ['SIA Pop 2000000 74000000']]\n"
          ]
        }
      ]
    },
    {
      "cell_type": "code",
      "source": [
        "# x = pd.read_csv('music.csv', usecols=['Artist', 'Plays']).values"
      ],
      "metadata": {
        "id": "5iZqb9K9Axy1"
      },
      "execution_count": null,
      "outputs": []
    },
    {
      "cell_type": "code",
      "source": [
        "a = np.array([[-2.58289208,  0.43014843, -1.24082018, 1.59572603],\n",
        "              [ 0.99027828, 1.17150989,  0.94125714, -0.14692469],\n",
        "              [ 0.76989341,  0.81299683, -0.95068423, 0.11769564],\n",
        "              [ 0.20484034,  0.34784527,  1.96979195, 0.51992837]])"
      ],
      "metadata": {
        "id": "F074CB-GBBuI"
      },
      "execution_count": 170,
      "outputs": []
    },
    {
      "cell_type": "code",
      "source": [
        "df = pd.DataFrame(a)\n",
        "print(df)"
      ],
      "metadata": {
        "colab": {
          "base_uri": "https://localhost:8080/",
          "height": 0
        },
        "id": "HezQ3r9DBbDg",
        "outputId": "d363d7b5-e27f-4ef6-d8f9-1e434a822358"
      },
      "execution_count": 180,
      "outputs": [
        {
          "output_type": "stream",
          "name": "stdout",
          "text": [
            "          0         1         2         3\n",
            "0 -2.582892  0.430148 -1.240820  1.595726\n",
            "1  0.990278  1.171510  0.941257 -0.146925\n",
            "2  0.769893  0.812997 -0.950684  0.117696\n",
            "3  0.204840  0.347845  1.969792  0.519928\n"
          ]
        }
      ]
    },
    {
      "cell_type": "code",
      "source": [
        "df.to_csv('pd.csv')"
      ],
      "metadata": {
        "id": "uU4xs7ciBf1x"
      },
      "execution_count": 181,
      "outputs": []
    },
    {
      "cell_type": "code",
      "source": [
        "data = pd.read_csv('pd.csv')"
      ],
      "metadata": {
        "id": "IA9y-KLFCF6W"
      },
      "execution_count": 182,
      "outputs": []
    },
    {
      "cell_type": "code",
      "source": [
        "data"
      ],
      "metadata": {
        "colab": {
          "base_uri": "https://localhost:8080/",
          "height": 193
        },
        "id": "ggTKCwIpCKgh",
        "outputId": "58f451b8-4a63-4522-cd52-65637b086043"
      },
      "execution_count": 183,
      "outputs": [
        {
          "output_type": "execute_result",
          "data": {
            "text/html": [
              "\n",
              "  <div id=\"df-74df91d9-c937-4c79-b783-073939b4f451\">\n",
              "    <div class=\"colab-df-container\">\n",
              "      <div>\n",
              "<style scoped>\n",
              "    .dataframe tbody tr th:only-of-type {\n",
              "        vertical-align: middle;\n",
              "    }\n",
              "\n",
              "    .dataframe tbody tr th {\n",
              "        vertical-align: top;\n",
              "    }\n",
              "\n",
              "    .dataframe thead th {\n",
              "        text-align: right;\n",
              "    }\n",
              "</style>\n",
              "<table border=\"1\" class=\"dataframe\">\n",
              "  <thead>\n",
              "    <tr style=\"text-align: right;\">\n",
              "      <th></th>\n",
              "      <th>Unnamed: 0</th>\n",
              "      <th>0</th>\n",
              "      <th>1</th>\n",
              "      <th>2</th>\n",
              "      <th>3</th>\n",
              "    </tr>\n",
              "  </thead>\n",
              "  <tbody>\n",
              "    <tr>\n",
              "      <th>0</th>\n",
              "      <td>0</td>\n",
              "      <td>-2.582892</td>\n",
              "      <td>0.430148</td>\n",
              "      <td>-1.240820</td>\n",
              "      <td>1.595726</td>\n",
              "    </tr>\n",
              "    <tr>\n",
              "      <th>1</th>\n",
              "      <td>1</td>\n",
              "      <td>0.990278</td>\n",
              "      <td>1.171510</td>\n",
              "      <td>0.941257</td>\n",
              "      <td>-0.146925</td>\n",
              "    </tr>\n",
              "    <tr>\n",
              "      <th>2</th>\n",
              "      <td>2</td>\n",
              "      <td>0.769893</td>\n",
              "      <td>0.812997</td>\n",
              "      <td>-0.950684</td>\n",
              "      <td>0.117696</td>\n",
              "    </tr>\n",
              "    <tr>\n",
              "      <th>3</th>\n",
              "      <td>3</td>\n",
              "      <td>0.204840</td>\n",
              "      <td>0.347845</td>\n",
              "      <td>1.969792</td>\n",
              "      <td>0.519928</td>\n",
              "    </tr>\n",
              "  </tbody>\n",
              "</table>\n",
              "</div>\n",
              "      <button class=\"colab-df-convert\" onclick=\"convertToInteractive('df-74df91d9-c937-4c79-b783-073939b4f451')\"\n",
              "              title=\"Convert this dataframe to an interactive table.\"\n",
              "              style=\"display:none;\">\n",
              "        \n",
              "  <svg xmlns=\"http://www.w3.org/2000/svg\" height=\"24px\"viewBox=\"0 0 24 24\"\n",
              "       width=\"24px\">\n",
              "    <path d=\"M0 0h24v24H0V0z\" fill=\"none\"/>\n",
              "    <path d=\"M18.56 5.44l.94 2.06.94-2.06 2.06-.94-2.06-.94-.94-2.06-.94 2.06-2.06.94zm-11 1L8.5 8.5l.94-2.06 2.06-.94-2.06-.94L8.5 2.5l-.94 2.06-2.06.94zm10 10l.94 2.06.94-2.06 2.06-.94-2.06-.94-.94-2.06-.94 2.06-2.06.94z\"/><path d=\"M17.41 7.96l-1.37-1.37c-.4-.4-.92-.59-1.43-.59-.52 0-1.04.2-1.43.59L10.3 9.45l-7.72 7.72c-.78.78-.78 2.05 0 2.83L4 21.41c.39.39.9.59 1.41.59.51 0 1.02-.2 1.41-.59l7.78-7.78 2.81-2.81c.8-.78.8-2.07 0-2.86zM5.41 20L4 18.59l7.72-7.72 1.47 1.35L5.41 20z\"/>\n",
              "  </svg>\n",
              "      </button>\n",
              "      \n",
              "  <style>\n",
              "    .colab-df-container {\n",
              "      display:flex;\n",
              "      flex-wrap:wrap;\n",
              "      gap: 12px;\n",
              "    }\n",
              "\n",
              "    .colab-df-convert {\n",
              "      background-color: #E8F0FE;\n",
              "      border: none;\n",
              "      border-radius: 50%;\n",
              "      cursor: pointer;\n",
              "      display: none;\n",
              "      fill: #1967D2;\n",
              "      height: 32px;\n",
              "      padding: 0 0 0 0;\n",
              "      width: 32px;\n",
              "    }\n",
              "\n",
              "    .colab-df-convert:hover {\n",
              "      background-color: #E2EBFA;\n",
              "      box-shadow: 0px 1px 2px rgba(60, 64, 67, 0.3), 0px 1px 3px 1px rgba(60, 64, 67, 0.15);\n",
              "      fill: #174EA6;\n",
              "    }\n",
              "\n",
              "    [theme=dark] .colab-df-convert {\n",
              "      background-color: #3B4455;\n",
              "      fill: #D2E3FC;\n",
              "    }\n",
              "\n",
              "    [theme=dark] .colab-df-convert:hover {\n",
              "      background-color: #434B5C;\n",
              "      box-shadow: 0px 1px 3px 1px rgba(0, 0, 0, 0.15);\n",
              "      filter: drop-shadow(0px 1px 2px rgba(0, 0, 0, 0.3));\n",
              "      fill: #FFFFFF;\n",
              "    }\n",
              "  </style>\n",
              "\n",
              "      <script>\n",
              "        const buttonEl =\n",
              "          document.querySelector('#df-74df91d9-c937-4c79-b783-073939b4f451 button.colab-df-convert');\n",
              "        buttonEl.style.display =\n",
              "          google.colab.kernel.accessAllowed ? 'block' : 'none';\n",
              "\n",
              "        async function convertToInteractive(key) {\n",
              "          const element = document.querySelector('#df-74df91d9-c937-4c79-b783-073939b4f451');\n",
              "          const dataTable =\n",
              "            await google.colab.kernel.invokeFunction('convertToInteractive',\n",
              "                                                     [key], {});\n",
              "          if (!dataTable) return;\n",
              "\n",
              "          const docLinkHtml = 'Like what you see? Visit the ' +\n",
              "            '<a target=\"_blank\" href=https://colab.research.google.com/notebooks/data_table.ipynb>data table notebook</a>'\n",
              "            + ' to learn more about interactive tables.';\n",
              "          element.innerHTML = '';\n",
              "          dataTable['output_type'] = 'display_data';\n",
              "          await google.colab.output.renderOutput(dataTable, element);\n",
              "          const docLink = document.createElement('div');\n",
              "          docLink.innerHTML = docLinkHtml;\n",
              "          element.appendChild(docLink);\n",
              "        }\n",
              "      </script>\n",
              "    </div>\n",
              "  </div>\n",
              "  "
            ],
            "text/plain": [
              "   Unnamed: 0         0         1         2         3\n",
              "0           0 -2.582892  0.430148 -1.240820  1.595726\n",
              "1           1  0.990278  1.171510  0.941257 -0.146925\n",
              "2           2  0.769893  0.812997 -0.950684  0.117696\n",
              "3           3  0.204840  0.347845  1.969792  0.519928"
            ]
          },
          "metadata": {},
          "execution_count": 183
        }
      ]
    },
    {
      "cell_type": "code",
      "source": [
        "# You can also save your array with the NumPy savetxt method.\n",
        "np.savetxt('np.csv', a, fmt='%.2f', delimiter=',', header='1,  2,  3,  4')"
      ],
      "metadata": {
        "id": "koCDIj3bCPv6"
      },
      "execution_count": 184,
      "outputs": []
    },
    {
      "cell_type": "markdown",
      "source": [
        "Plotting arrays with Matplotlib"
      ],
      "metadata": {
        "id": "NhpSaBacCgT1"
      }
    },
    {
      "cell_type": "code",
      "source": [
        "a = np.array([2, 1, 5, 7, 4, 6, 8, 14, 10, 9, 18, 20, 22])"
      ],
      "metadata": {
        "id": "g9gs3QcjCcd7"
      },
      "execution_count": 185,
      "outputs": []
    },
    {
      "cell_type": "code",
      "source": [
        "import matplotlib.pyplot as plt\n",
        "%matplotlib inline # to display the code in notebook"
      ],
      "metadata": {
        "colab": {
          "base_uri": "https://localhost:8080/",
          "height": 0
        },
        "id": "T53hR0TICh_j",
        "outputId": "3b73f018-7066-452b-8769-b731117ac1c8"
      },
      "execution_count": 187,
      "outputs": [
        {
          "output_type": "stream",
          "name": "stderr",
          "text": [
            "UsageError: unrecognized arguments: # to display the code in notebook\n"
          ]
        }
      ]
    },
    {
      "cell_type": "code",
      "source": [
        "plt.plot(a)"
      ],
      "metadata": {
        "colab": {
          "base_uri": "https://localhost:8080/",
          "height": 282
        },
        "id": "vHKtGB1UCp9q",
        "outputId": "a2d0cadf-75bd-470a-c42c-1548e94c927b"
      },
      "execution_count": 188,
      "outputs": [
        {
          "output_type": "execute_result",
          "data": {
            "text/plain": [
              "[<matplotlib.lines.Line2D at 0x7f644f667b90>]"
            ]
          },
          "metadata": {},
          "execution_count": 188
        },
        {
          "output_type": "display_data",
          "data": {
            "image/png": "[encoded data removed]",
            "text/plain": [
              "<Figure size 432x288 with 1 Axes>"
            ]
          },
          "metadata": {
            "needs_background": "light"
          }
        }
      ]
    },
    {
      "cell_type": "code",
      "source": [
        "# you can plot a 1D array like this:\n",
        "x = np.linspace(0, 5, 20)\n",
        "y = np.linspace(0, 10, 20)\n",
        "plt.plot(x, y, 'purple') # line\n",
        "plt.plot(x, y, 'o')      # dots"
      ],
      "metadata": {
        "colab": {
          "base_uri": "https://localhost:8080/",
          "height": 282
        },
        "id": "FNx-e_O-C47V",
        "outputId": "80bd68ee-55b1-4535-c09d-2f61bb026761"
      },
      "execution_count": 189,
      "outputs": [
        {
          "output_type": "execute_result",
          "data": {
            "text/plain": [
              "[<matplotlib.lines.Line2D at 0x7f644ee3db10>]"
            ]
          },
          "metadata": {},
          "execution_count": 189
        },
        {
          "output_type": "display_data",
          "data": {
            "image/png": "[encoded data removed]",
            "text/plain": [
              "<Figure size 432x288 with 1 Axes>"
            ]
          },
          "metadata": {
            "needs_background": "light"
          }
        }
      ]
    },
    {
      "cell_type": "code",
      "source": [
        "fig = plt.figure()\n",
        "ax = fig.add_subplot(projection='3d')\n",
        "X = np.arange(-5, 5, 0.15)\n",
        "Y = np.arange(-5, 5, 0.15)\n",
        "X, Y = np.meshgrid(X, Y)\n",
        "R = np.sqrt(X**2 + Y**2)\n",
        "Z = np.sin(R)\n",
        "\n",
        "ax.plot_surface(X, Y, Z, rstride=1, cstride=1, cmap='viridis')"
      ],
      "metadata": {
        "colab": {
          "base_uri": "https://localhost:8080/",
          "height": 265
        },
        "id": "juR2SIZqC-eW",
        "outputId": "e267b335-4e7f-454c-f24d-0ea82e5aeaef"
      },
      "execution_count": 190,
      "outputs": [
        {
          "output_type": "execute_result",
          "data": {
            "text/plain": [
              "<mpl_toolkits.mplot3d.art3d.Poly3DCollection at 0x7f644edbdf50>"
            ]
          },
          "metadata": {},
          "execution_count": 190
        },
        {
          "output_type": "display_data",
          "data": {
            "image/png": "[encoded data removed]",
            "text/plain": [
              "<Figure size 432x288 with 1 Axes>"
            ]
          },
          "metadata": {
            "needs_background": "light"
          }
        }
      ]
    },
    {
      "cell_type": "markdown",
      "source": [
        "#2. Consider this url : https://pythonexamples.org/numpy/, execute\n",
        "# all the examples related to numpy. Write your observations."
      ],
      "metadata": {
        "id": "FSttbKyJDGVR"
      }
    },
    {
      "cell_type": "markdown",
      "source": [
        "**Python Numpy Examples List**\n",
        "\n"
      ],
      "metadata": {
        "id": "wk5aEhTmHpfG"
      }
    },
    {
      "cell_type": "code",
      "source": [
        "# Numpy – Create One Dimensional Array\n",
        "a = np.array([5, 8, 12])\n",
        "print(a)"
      ],
      "metadata": {
        "colab": {
          "base_uri": "https://localhost:8080/",
          "height": 0
        },
        "id": "E8W59m-DDCm5",
        "outputId": "e430d8b6-3dd3-4f30-c016-99320d721cf9"
      },
      "execution_count": 191,
      "outputs": [
        {
          "output_type": "stream",
          "name": "stdout",
          "text": [
            "[ 5  8 12]\n"
          ]
        }
      ]
    },
    {
      "cell_type": "code",
      "source": [
        "# Create 1D Numpy Array using arange() function\n",
        "a = np.arange(5, 14, 2)\n",
        "print(a)"
      ],
      "metadata": {
        "colab": {
          "base_uri": "https://localhost:8080/",
          "height": 0
        },
        "id": "JKUfE2v3DhGR",
        "outputId": "585f6c56-e38f-44a1-acfd-b2d1a7792eee"
      },
      "execution_count": 193,
      "outputs": [
        {
          "output_type": "stream",
          "name": "stdout",
          "text": [
            "[ 5  7  9 11 13]\n"
          ]
        }
      ]
    },
    {
      "cell_type": "code",
      "source": [
        "# Create 1D Numpy Array using linspace() function\n",
        "a = np.linspace(5, 25, 4)\n",
        "print(a)"
      ],
      "metadata": {
        "colab": {
          "base_uri": "https://localhost:8080/",
          "height": 0
        },
        "id": "wdCE3pwDDmWd",
        "outputId": "da10b1e3-22bf-40e4-decd-5f66e894c521"
      },
      "execution_count": 194,
      "outputs": [
        {
          "output_type": "stream",
          "name": "stdout",
          "text": [
            "[ 5.         11.66666667 18.33333333 25.        ]\n"
          ]
        }
      ]
    },
    {
      "cell_type": "code",
      "source": [
        "# Create Numpy Array with Random Values\n",
        "# Example 1: Create One-Dimensional Numpy Array with Random Values\n",
        "a = np.random.rand(7)\n",
        "\n",
        "print(a)"
      ],
      "metadata": {
        "colab": {
          "base_uri": "https://localhost:8080/",
          "height": 0
        },
        "id": "2CTd3E2fDuHu",
        "outputId": "78d8c544-cf41-4847-bb75-131374f406c4"
      },
      "execution_count": 195,
      "outputs": [
        {
          "output_type": "stream",
          "name": "stdout",
          "text": [
            "[0.0800395  0.2849881  0.97924526 0.99641781 0.23358472 0.24458949\n",
            " 0.01233796]\n"
          ]
        }
      ]
    },
    {
      "cell_type": "code",
      "source": [
        "# Example 2: Create Two-Dimensional Numpy Array with Random Values\n",
        "a = np.random.rand(2,4)\n",
        "\n",
        "print(a)"
      ],
      "metadata": {
        "colab": {
          "base_uri": "https://localhost:8080/",
          "height": 0
        },
        "id": "ZdCKF4IREKue",
        "outputId": "407aa341-f82e-4ed0-a6e8-a587cc12098a"
      },
      "execution_count": 196,
      "outputs": [
        {
          "output_type": "stream",
          "name": "stdout",
          "text": [
            "[[0.79704203 0.65157398 0.89571209 0.34400381]\n",
            " [0.52864252 0.05260179 0.1567496  0.92176755]]\n"
          ]
        }
      ]
    },
    {
      "cell_type": "code",
      "source": [
        "# Example 3: Create Three-Dimensional Numpy Array with Random Values\n",
        "a = np.random.rand(4,2,3)\n",
        "\n",
        "print(a)"
      ],
      "metadata": {
        "colab": {
          "base_uri": "https://localhost:8080/",
          "height": 0
        },
        "id": "TWK4cVHJEUzO",
        "outputId": "4dd74fa4-f5a0-4459-81f3-b1ce415c22f8"
      },
      "execution_count": 197,
      "outputs": [
        {
          "output_type": "stream",
          "name": "stdout",
          "text": [
            "[[[0.14811684 0.61230242 0.50792388]\n",
            "  [0.71581517 0.11275681 0.62922911]]\n",
            "\n",
            " [[0.45033789 0.03444011 0.98646056]\n",
            "  [0.01931688 0.41668172 0.09582164]]\n",
            "\n",
            " [[0.19440937 0.30020674 0.39970658]\n",
            "  [0.45725858 0.75730007 0.88321257]]\n",
            "\n",
            " [[0.43492055 0.06873841 0.83856758]\n",
            "  [0.6355631  0.45208971 0.27529778]]]\n"
          ]
        }
      ]
    },
    {
      "cell_type": "code",
      "source": [
        "# Save Numpy Array to File & Read Numpy Array from File\n",
        "\n",
        "# Example 1: Save the Array to File\n",
        "arr = np.array([[[11, 11, 9, 9],\n",
        "                  [11, 0, 2, 0]\n",
        "\t\t\t\t ],\n",
        "\t             [[10, 14, 9, 14],\n",
        "                  [0, 1, 11, 11]]])\n",
        "file = open(\"arr\", \"wb\")\n",
        "np.save(file, arr)\n",
        "file.close"
      ],
      "metadata": {
        "colab": {
          "base_uri": "https://localhost:8080/",
          "height": 0
        },
        "id": "CseHCm6YEY4t",
        "outputId": "fb2e7c6c-ed28-4c7c-a2c3-e9b5b155497c"
      },
      "execution_count": 198,
      "outputs": [
        {
          "output_type": "execute_result",
          "data": {
            "text/plain": [
              "<function BufferedWriter.close>"
            ]
          },
          "metadata": {},
          "execution_count": 198
        }
      ]
    },
    {
      "cell_type": "code",
      "source": [
        "# Example 2: Load the saved numpy array from file\n",
        "arr = np.array([[[11, 11, 9, 9],\n",
        "                  [11, 0, 2, 0]],\n",
        "\t             [[10, 14, 9, 14],\n",
        "                  [0, 1, 11, 11]]])\n",
        "file = open(\"arr\", \"wb\")\n",
        "np.save(file, arr)\n",
        "file.close\n",
        "file = open(\"arr\", \"rb\")\n",
        "arr1 = np.load(file)\n",
        "print(arr1)"
      ],
      "metadata": {
        "colab": {
          "base_uri": "https://localhost:8080/",
          "height": 0
        },
        "id": "TASDlIgdEmpk",
        "outputId": "d29b5b0d-18d6-4f57-ddb8-9812e7e52a3c"
      },
      "execution_count": 200,
      "outputs": [
        {
          "output_type": "stream",
          "name": "stdout",
          "text": [
            "[[[11 11  9  9]\n",
            "  [11  0  2  0]]\n",
            "\n",
            " [[10 14  9 14]\n",
            "  [ 0  1 11 11]]]\n"
          ]
        }
      ]
    },
    {
      "cell_type": "code",
      "source": [
        "# Python Numpy – zeros(shape)\n",
        "\n",
        "# Example 1: Python Numpy Zeros Array – One Dimensional\n",
        "a = np.zeros(8)\n",
        "\n",
        "print(a)"
      ],
      "metadata": {
        "colab": {
          "base_uri": "https://localhost:8080/",
          "height": 0
        },
        "id": "SX0x6bzQEvaS",
        "outputId": "ad0c834d-6bd7-4b09-d98e-7a4049a3b02e"
      },
      "execution_count": 201,
      "outputs": [
        {
          "output_type": "stream",
          "name": "stdout",
          "text": [
            "[0. 0. 0. 0. 0. 0. 0. 0.]\n"
          ]
        }
      ]
    },
    {
      "cell_type": "code",
      "source": [
        "# Example 2: Python Numpy Zeros Array – Two Dimensional\n",
        "a = np.zeros((3, 4))\n",
        "\n",
        "print(a)"
      ],
      "metadata": {
        "colab": {
          "base_uri": "https://localhost:8080/",
          "height": 0
        },
        "id": "irr-ZwinE3z0",
        "outputId": "43d1ee93-00ef-4f21-bbdb-96c5f9e8970b"
      },
      "execution_count": 202,
      "outputs": [
        {
          "output_type": "stream",
          "name": "stdout",
          "text": [
            "[[0. 0. 0. 0.]\n",
            " [0. 0. 0. 0.]\n",
            " [0. 0. 0. 0.]]\n"
          ]
        }
      ]
    },
    {
      "cell_type": "code",
      "source": [
        "# Example 3: Python Numpy Zeros Array – Three Dimensional\n",
        "a = np.zeros((3, 2, 4))\n",
        "\n",
        "print(a)"
      ],
      "metadata": {
        "colab": {
          "base_uri": "https://localhost:8080/",
          "height": 0
        },
        "id": "wwIwnAG1E7vq",
        "outputId": "3a78b7a5-4e0e-4a6a-cc27-c989b5b29d31"
      },
      "execution_count": 203,
      "outputs": [
        {
          "output_type": "stream",
          "name": "stdout",
          "text": [
            "[[[0. 0. 0. 0.]\n",
            "  [0. 0. 0. 0.]]\n",
            "\n",
            " [[0. 0. 0. 0.]\n",
            "  [0. 0. 0. 0.]]\n",
            "\n",
            " [[0. 0. 0. 0.]\n",
            "  [0. 0. 0. 0.]]]\n"
          ]
        }
      ]
    },
    {
      "cell_type": "code",
      "source": [
        "# Example 4: Python Numpy Zeros Array with Specific Datatype\n",
        "a = np.zeros(8, int)\n",
        "\n",
        "print(a)"
      ],
      "metadata": {
        "colab": {
          "base_uri": "https://localhost:8080/",
          "height": 0
        },
        "id": "EVwD8aWtE_4y",
        "outputId": "05c28b25-82c5-4432-c064-b48a0079d4e5"
      },
      "execution_count": 204,
      "outputs": [
        {
          "output_type": "stream",
          "name": "stdout",
          "text": [
            "[0 0 0 0 0 0 0 0]\n"
          ]
        }
      ]
    },
    {
      "cell_type": "code",
      "source": [
        "# Get a Row from Numpy Array\n",
        "\n",
        "# Example 1: Access a specific row of elements\n",
        "arr = np.array([[[11, 11, 9, 9],\n",
        "                 [11, 0, 2, 0]],\n",
        "                [[10, 14, 9, 14],\n",
        "                 [0, 1, 11, 11]]])\n",
        "\n",
        "print('Array Shape: ',arr.shape)\n",
        "row = arr[0, :, 1]\n",
        "print('Desired Row of Elements: ', row)"
      ],
      "metadata": {
        "colab": {
          "base_uri": "https://localhost:8080/",
          "height": 0
        },
        "id": "WphOivLJFD5t",
        "outputId": "ec17f4f6-bce2-47d0-cd69-3c124fa70ce9"
      },
      "execution_count": 205,
      "outputs": [
        {
          "output_type": "stream",
          "name": "stdout",
          "text": [
            "Array Shape:  (2, 2, 4)\n",
            "Desired Row of Elements:  [11  0]\n"
          ]
        }
      ]
    },
    {
      "cell_type": "code",
      "source": [
        "# Example 2: Access a Specific Row or Column in 2D Numpy Array\n",
        "arr = np.array([[11, 11, 9, 9],\n",
        "                [11,  0, 2, 0]])\n",
        "print('Array\\n',arr)\n",
        "row = arr[1, :]\n",
        "print('arr[1, :] : ', row)\n",
        "row = arr[:, 2]\n",
        "print('arr[:, 2] : ', row)"
      ],
      "metadata": {
        "colab": {
          "base_uri": "https://localhost:8080/",
          "height": 0
        },
        "id": "Gaz0NwCaFRDl",
        "outputId": "1469fdb2-88c5-4058-8b57-a7695ed1c9dc"
      },
      "execution_count": 206,
      "outputs": [
        {
          "output_type": "stream",
          "name": "stdout",
          "text": [
            "Array\n",
            " [[11 11  9  9]\n",
            " [11  0  2  0]]\n",
            "arr[1, :] :  [11  0  2  0]\n",
            "arr[:, 2] :  [9 2]\n"
          ]
        }
      ]
    },
    {
      "cell_type": "code",
      "source": [
        "# Numpy Array Shape\n",
        "\n",
        "# Example 1: Get Shape of Multi-Dimensional Numpy Array\n",
        "arr = np.array([[[11, 11, 9, 9],\n",
        "                  [11, 0, 2, 0]],\n",
        "\t             [[10, 14, 9, 14],\n",
        "                  [0, 1, 11, 11]]])\n",
        "shape = arr.shape\n",
        "print(shape)"
      ],
      "metadata": {
        "colab": {
          "base_uri": "https://localhost:8080/",
          "height": 0
        },
        "id": "UV2hY04IFXaE",
        "outputId": "3207df98-b840-4695-b05e-95d4ab2675be"
      },
      "execution_count": 207,
      "outputs": [
        {
          "output_type": "stream",
          "name": "stdout",
          "text": [
            "(2, 2, 4)\n"
          ]
        }
      ]
    },
    {
      "cell_type": "code",
      "source": [
        "# Example 2: Get Shape of 2D Numpy Array\n",
        "arr = np.array([[11, 11, 9, 9],\n",
        "                  [11, 0, 2, 0]])\n",
        "shape = arr.shape\n",
        "print(shape)"
      ],
      "metadata": {
        "colab": {
          "base_uri": "https://localhost:8080/",
          "height": 0
        },
        "id": "y0Py_SPHFg6L",
        "outputId": "adba1af4-1cd8-451e-a26c-df2bfbaf129a"
      },
      "execution_count": 208,
      "outputs": [
        {
          "output_type": "stream",
          "name": "stdout",
          "text": [
            "(2, 4)\n"
          ]
        }
      ]
    },
    {
      "cell_type": "code",
      "source": [
        "# Example 3: Get Shape of 1-Dimensional Numpy Array\n",
        "arr = np.array([11, 11, 9, 9])\n",
        "shape = arr.shape\n",
        "print(shape)"
      ],
      "metadata": {
        "colab": {
          "base_uri": "https://localhost:8080/",
          "height": 0
        },
        "id": "WMF63KL_FlB-",
        "outputId": "6bf840e1-7a34-404f-8482-ae0ec5a33eba"
      },
      "execution_count": 209,
      "outputs": [
        {
          "output_type": "stream",
          "name": "stdout",
          "text": [
            "(4,)\n"
          ]
        }
      ]
    },
    {
      "cell_type": "code",
      "source": [
        "# Iterate over elements of NumPy Array\n",
        "\n",
        "# Example\n",
        "a = (np.arange(8)*2).reshape(2,4)\n",
        "print(\"The array\\n\",a)\n",
        "print(\"\\nIterating over all the elemnets of array\")\n",
        "for x in np.nditer(a):\n",
        "\tprint(x, end=' ')"
      ],
      "metadata": {
        "colab": {
          "base_uri": "https://localhost:8080/",
          "height": 0
        },
        "id": "LBH9J_l6FpCS",
        "outputId": "19bc3fc7-6dc8-49e8-a8c9-66e9af2a837e"
      },
      "execution_count": 210,
      "outputs": [
        {
          "output_type": "stream",
          "name": "stdout",
          "text": [
            "The array\n",
            " [[ 0  2  4  6]\n",
            " [ 8 10 12 14]]\n",
            "\n",
            "Iterating over all the elemnets of array\n",
            "0 2 4 6 8 10 12 14 "
          ]
        }
      ]
    },
    {
      "cell_type": "code",
      "source": [
        "# Python Numpy – Duplicate or Copy Array\n",
        "\n",
        "# Example 1: Copy Array using Numpy\n",
        "a = np.array([[8, 2, 3],\n",
        "              [4, 7, 6]])\n",
        "b = a.copy()\n",
        "a[1, 2] = 13\n",
        "print('a\\n',a)\n",
        "print('\\nb\\n',b)"
      ],
      "metadata": {
        "colab": {
          "base_uri": "https://localhost:8080/",
          "height": 0
        },
        "id": "wp90xndhGCbw",
        "outputId": "cac0351f-ff4f-49f0-a523-29f3ef834935"
      },
      "execution_count": 211,
      "outputs": [
        {
          "output_type": "stream",
          "name": "stdout",
          "text": [
            "a\n",
            " [[ 8  2  3]\n",
            " [ 4  7 13]]\n",
            "\n",
            "b\n",
            " [[8 2 3]\n",
            " [4 7 6]]\n"
          ]
        }
      ]
    },
    {
      "cell_type": "code",
      "source": [
        "# Example 2: What happens if we use assignment operator to copy array\n",
        "a = np.array([[8, 2, 3],\n",
        "              [4, 7, 6]])\n",
        "b = a\n",
        "a[1, 2] = 13\n",
        "print('a\\n',a)\n",
        "print('\\nb\\n',b)"
      ],
      "metadata": {
        "colab": {
          "base_uri": "https://localhost:8080/",
          "height": 0
        },
        "id": "C39csFlpGNeB",
        "outputId": "060782ea-797a-4714-8808-894b5a2cda37"
      },
      "execution_count": 212,
      "outputs": [
        {
          "output_type": "stream",
          "name": "stdout",
          "text": [
            "a\n",
            " [[ 8  2  3]\n",
            " [ 4  7 13]]\n",
            "\n",
            "b\n",
            " [[ 8  2  3]\n",
            " [ 4  7 13]]\n"
          ]
        }
      ]
    },
    {
      "cell_type": "code",
      "source": [
        "# Python numpy.vstack()\n",
        "\n",
        "# Example 1: numpy.vstack() with two 2D arrays\n",
        "A = np.array([[2, 1], [5, 4]])\n",
        "B = np.array([[3, 4], [7, 8]])\n",
        "output = np.vstack((A, B))\n",
        "print(output)"
      ],
      "metadata": {
        "colab": {
          "base_uri": "https://localhost:8080/",
          "height": 0
        },
        "id": "BnnLP1lyGS5x",
        "outputId": "65846578-53d1-499e-c2fc-682633812bec"
      },
      "execution_count": 213,
      "outputs": [
        {
          "output_type": "stream",
          "name": "stdout",
          "text": [
            "[[2 1]\n",
            " [5 4]\n",
            " [3 4]\n",
            " [7 8]]\n"
          ]
        }
      ]
    },
    {
      "cell_type": "code",
      "source": [
        "# Example 2: Vertically Stack 1D Numpy Arrays\n",
        "A = np.array([2, 1, 5, 4])\n",
        "B = np.array([3, 4, 7, 8])\n",
        "C = np.array([8, 6, 0, 3])\n",
        "output = np.vstack((A, B, C))\n",
        "print(output)"
      ],
      "metadata": {
        "colab": {
          "base_uri": "https://localhost:8080/",
          "height": 0
        },
        "id": "JKJ_jl9SGfJC",
        "outputId": "a999a104-7474-4478-b0d2-c56f12396c4a"
      },
      "execution_count": 214,
      "outputs": [
        {
          "output_type": "stream",
          "name": "stdout",
          "text": [
            "[[2 1 5 4]\n",
            " [3 4 7 8]\n",
            " [8 6 0 3]]\n"
          ]
        }
      ]
    },
    {
      "cell_type": "code",
      "source": [
        "# Numpy Dot Product\n",
        "\n",
        "# Example 1: Numpy Dot Product of Scalars\n",
        "a = 3 \n",
        "b = 4\n",
        "output = np.dot(a,b)\n",
        "print(output)"
      ],
      "metadata": {
        "colab": {
          "base_uri": "https://localhost:8080/",
          "height": 0
        },
        "id": "4ZJIqIfZGkZe",
        "outputId": "9741552b-ea3d-483f-e42f-113f5109ec6b"
      },
      "execution_count": 215,
      "outputs": [
        {
          "output_type": "stream",
          "name": "stdout",
          "text": [
            "12\n"
          ]
        }
      ]
    },
    {
      "cell_type": "code",
      "source": [
        "# Example 2: Numpy Dot Product of 1D Arrays (Vectors)\n",
        "A = np.array([2, 1, 5, 4])\n",
        "B = np.array([3, 4, 7, 8])\n",
        "output = np.dot(A, B)\n",
        "print(output)"
      ],
      "metadata": {
        "colab": {
          "base_uri": "https://localhost:8080/",
          "height": 0
        },
        "id": "ZZCpwmh7G39R",
        "outputId": "c531b095-801f-4574-c6e9-6ffc290ca693"
      },
      "execution_count": 216,
      "outputs": [
        {
          "output_type": "stream",
          "name": "stdout",
          "text": [
            "77\n"
          ]
        }
      ]
    },
    {
      "cell_type": "code",
      "source": [
        "# Example 3: Numpy Dot Product of 2-D Arrays (Matrix)\n",
        "A = np.array([[2, 1], [5, 4]])\n",
        "B = np.array([[3, 4], [7, 8]])\n",
        "output = np.dot(A, B)\n",
        "print(output)"
      ],
      "metadata": {
        "colab": {
          "base_uri": "https://localhost:8080/",
          "height": 0
        },
        "id": "m2KQCJkZHFCU",
        "outputId": "9d39f610-da20-43da-8b08-68c4f5b7a103"
      },
      "execution_count": 217,
      "outputs": [
        {
          "output_type": "stream",
          "name": "stdout",
          "text": [
            "[[13 16]\n",
            " [43 52]]\n"
          ]
        }
      ]
    },
    {
      "cell_type": "code",
      "source": [
        "# Numpy Cross Product\n",
        "\n",
        "# Example 1: Cross Product of Numpy Arrays\n",
        "A = np.array([2, 3])\n",
        "B = np.array([1, 7])\n",
        "output = np.cross(A, B)\n",
        "print(output)"
      ],
      "metadata": {
        "colab": {
          "base_uri": "https://localhost:8080/",
          "height": 0
        },
        "id": "QGjD5bgpHJ1B",
        "outputId": "8f0726f5-1a16-4073-ac3d-bceb5d210ad5"
      },
      "execution_count": 218,
      "outputs": [
        {
          "output_type": "stream",
          "name": "stdout",
          "text": [
            "11\n"
          ]
        }
      ]
    },
    {
      "cell_type": "code",
      "source": [
        "# Example 2: Cross Product of Numpy Arrays in 3D\n",
        "A = np.array([2, 7, 4])\n",
        "B = np.array([3, 9, 8])\n",
        "output = np.cross(A, B)\n",
        "print(output)"
      ],
      "metadata": {
        "colab": {
          "base_uri": "https://localhost:8080/",
          "height": 0
        },
        "id": "-oIFqXUOHbtF",
        "outputId": "7caeb9ca-5c85-4c33-cfa0-9037acaae770"
      },
      "execution_count": 219,
      "outputs": [
        {
          "output_type": "stream",
          "name": "stdout",
          "text": [
            "[20 -4 -3]\n"
          ]
        }
      ]
    },
    {
      "cell_type": "markdown",
      "source": [
        "**Numpy – Arithmetic Operations**"
      ],
      "metadata": {
        "id": "s4WUCLGyHwLH"
      }
    },
    {
      "cell_type": "code",
      "source": [
        "# Numpy Array – Add a constant to all elements of the array\n",
        "\n",
        "# Example\n",
        "a = (np.arange(8)*2).reshape(2,4)\n",
        "print(\"The array\\n\",a)\n",
        "b = a + 3\n",
        "print(\"\\nAfter adding a constant to all the elemnets of array\\n\",b)"
      ],
      "metadata": {
        "colab": {
          "base_uri": "https://localhost:8080/",
          "height": 0
        },
        "id": "QxFE2WjvHhRL",
        "outputId": "8a9ca837-5355-40bb-f03b-4d9d87233e56"
      },
      "execution_count": 220,
      "outputs": [
        {
          "output_type": "stream",
          "name": "stdout",
          "text": [
            "The array\n",
            " [[ 0  2  4  6]\n",
            " [ 8 10 12 14]]\n",
            "\n",
            "After adding a constant to all the elemnets of array\n",
            " [[ 3  5  7  9]\n",
            " [11 13 15 17]]\n"
          ]
        }
      ]
    },
    {
      "cell_type": "code",
      "source": [
        "# Numpy Array – Multiply a constant to all elements of the array\n",
        "\n",
        "# Example\n",
        "a = (np.arange(8)*2).reshape(2,4)\n",
        "print(\"The array\\n\",a)\n",
        "b = a * 3\n",
        "print(\"\\nAfter multiplying a constant to all the elements of array\\n\",b)"
      ],
      "metadata": {
        "colab": {
          "base_uri": "https://localhost:8080/",
          "height": 0
        },
        "id": "eFI6xG99H_JG",
        "outputId": "9d3549f0-abc6-41d3-de23-8e5e54a045e2"
      },
      "execution_count": 221,
      "outputs": [
        {
          "output_type": "stream",
          "name": "stdout",
          "text": [
            "The array\n",
            " [[ 0  2  4  6]\n",
            " [ 8 10 12 14]]\n",
            "\n",
            "After multiplying a constant to all the elements of array\n",
            " [[ 0  6 12 18]\n",
            " [24 30 36 42]]\n"
          ]
        }
      ]
    },
    {
      "cell_type": "code",
      "source": [
        "# Numpy Array – Divide all elements by a constant\n",
        "\n",
        "# Example\n",
        "a = (np.arange(8)*2).reshape(2,4)\n",
        "print(\"The array\\n\",a)\n",
        "b = a / 3\n",
        "print(\"\\nAfter dividing by a constant\\n\",b)"
      ],
      "metadata": {
        "colab": {
          "base_uri": "https://localhost:8080/",
          "height": 0
        },
        "id": "zRxm98O-IUL9",
        "outputId": "a4dfe1b1-3b95-4091-e280-64f19f1131de"
      },
      "execution_count": 222,
      "outputs": [
        {
          "output_type": "stream",
          "name": "stdout",
          "text": [
            "The array\n",
            " [[ 0  2  4  6]\n",
            " [ 8 10 12 14]]\n",
            "\n",
            "After dividing by a constant\n",
            " [[0.         0.66666667 1.33333333 2.        ]\n",
            " [2.66666667 3.33333333 4.         4.66666667]]\n"
          ]
        }
      ]
    },
    {
      "cell_type": "markdown",
      "source": [
        "**Numpy – Mathematical Functions**"
      ],
      "metadata": {
        "id": "7IJXbXPxJfbK"
      }
    },
    {
      "cell_type": "code",
      "source": [
        "# Numpy sqrt()\n",
        "# Example 1: Find Squre Root of Number in a List\n",
        "listA = [4, 16, 9, 1, 25, 49]\n",
        "output = np.sqrt(listA)\n",
        "print(output)"
      ],
      "metadata": {
        "colab": {
          "base_uri": "https://localhost:8080/",
          "height": 0
        },
        "id": "nqbIxRGaIbsI",
        "outputId": "196847f3-9857-44d0-fffc-524312eef9d1"
      },
      "execution_count": 223,
      "outputs": [
        {
          "output_type": "stream",
          "name": "stdout",
          "text": [
            "[2. 4. 3. 1. 5. 7.]\n"
          ]
        }
      ]
    },
    {
      "cell_type": "code",
      "source": [
        "# Example 2: Square root of numbers\n",
        "listA = [2, 3, 5]\n",
        "output = np.sqrt(listA)\n",
        "print(output)"
      ],
      "metadata": {
        "colab": {
          "base_uri": "https://localhost:8080/",
          "height": 0
        },
        "id": "_Erk5NERIsTb",
        "outputId": "24ae127b-3870-43df-e440-4b7f04b3db44"
      },
      "execution_count": 224,
      "outputs": [
        {
          "output_type": "stream",
          "name": "stdout",
          "text": [
            "[1.41421356 1.73205081 2.23606798]\n"
          ]
        }
      ]
    },
    {
      "cell_type": "code",
      "source": [
        "# Example 3: Find Square Root of Complex Numbers\n",
        "listA = [4+1j, 9+16j]\n",
        "output = np.sqrt(listA)\n",
        "print(output)"
      ],
      "metadata": {
        "colab": {
          "base_uri": "https://localhost:8080/",
          "height": 0
        },
        "id": "sF9TB58MIwpN",
        "outputId": "c881389c-7147-4ad7-b0b0-a0a59ffa03ac"
      },
      "execution_count": 225,
      "outputs": [
        {
          "output_type": "stream",
          "name": "stdout",
          "text": [
            "[2.01532946+0.24809839j 3.69848346+2.16304875j]\n"
          ]
        }
      ]
    },
    {
      "cell_type": "code",
      "source": [
        "# Example 4: Square of negative numbers\n",
        "listA = [-4, 9]\n",
        "output = np.sqrt(listA)\n",
        "print(output)"
      ],
      "metadata": {
        "colab": {
          "base_uri": "https://localhost:8080/",
          "height": 0
        },
        "id": "W1SOzCKcI0x6",
        "outputId": "9c59a2d7-c68f-4fc2-ae82-17b03cad400f"
      },
      "execution_count": 226,
      "outputs": [
        {
          "output_type": "stream",
          "name": "stdout",
          "text": [
            "[nan  3.]\n"
          ]
        },
        {
          "output_type": "stream",
          "name": "stderr",
          "text": [
            "/usr/local/lib/python3.7/dist-packages/ipykernel_launcher.py:3: RuntimeWarning: invalid value encountered in sqrt\n",
            "  This is separate from the ipykernel package so we can avoid doing imports until\n"
          ]
        }
      ]
    },
    {
      "cell_type": "code",
      "source": [
        "# Python Maximum Value of Numpy Array\n",
        "\n",
        "# Example 1: Get Maximum Value of Numpy Array\n",
        "arr = np.random.randint(10, size=(4,5))\n",
        "print(arr)\n",
        "max_value = np.max(arr)\n",
        "print('Maximum value of the array is',max_value)"
      ],
      "metadata": {
        "colab": {
          "base_uri": "https://localhost:8080/",
          "height": 0
        },
        "id": "o73_Z-J7I5VC",
        "outputId": "23c1f96c-acf2-4e30-a944-273cba0e4a4e"
      },
      "execution_count": 227,
      "outputs": [
        {
          "output_type": "stream",
          "name": "stdout",
          "text": [
            "[[7 1 7 8 1]\n",
            " [2 7 7 1 7]\n",
            " [3 0 6 3 1]\n",
            " [8 1 1 5 3]]\n",
            "Maximum value of the array is 8\n"
          ]
        }
      ]
    },
    {
      "cell_type": "code",
      "source": [
        "# Example 2: Find Max value of Numpy Array with Float Values\n",
        "arr = np.random.rand(6).reshape(2,3)\n",
        "print(arr)\n",
        "max_value = np.max(arr)\n",
        "print('Maximum value of the array is',max_value)"
      ],
      "metadata": {
        "colab": {
          "base_uri": "https://localhost:8080/",
          "height": 0
        },
        "id": "GKugUumGJBla",
        "outputId": "439703e1-d13d-4169-b4b1-5bf3aa3c855a"
      },
      "execution_count": 228,
      "outputs": [
        {
          "output_type": "stream",
          "name": "stdout",
          "text": [
            "[[0.76424179 0.36067636 0.78901115]\n",
            " [0.31928056 0.9797952  0.83405559]]\n",
            "Maximum value of the array is 0.9797952036158659\n"
          ]
        }
      ]
    },
    {
      "cell_type": "code",
      "source": [
        "# Maximum Value of a Python Numpy Array along an Axis\n",
        "\n",
        "# Example 1 – Maximum Value along an Axis\n",
        "arr = np.random.randint(10, size=(4,5))\n",
        "print(arr)\n",
        "amax_value = np.amax(arr, axis=0)\n",
        "print('Maximum value of the array along axis=0 is:')\n",
        "print(amax_value)\n",
        "amax_value = np.amax(arr, axis=1)\n",
        "print('Maximum value of the array along axis=1 is:')\n",
        "print(amax_value)"
      ],
      "metadata": {
        "colab": {
          "base_uri": "https://localhost:8080/",
          "height": 0
        },
        "id": "OFtXrX4QJFbX",
        "outputId": "df0d8db8-97a4-49bf-b24c-65f9267845ac"
      },
      "execution_count": 230,
      "outputs": [
        {
          "output_type": "stream",
          "name": "stdout",
          "text": [
            "[[0 1 4 6 2]\n",
            " [4 9 8 6 5]\n",
            " [2 3 8 9 9]\n",
            " [9 3 2 7 5]]\n",
            "Maximum value of the array along axis=0 is:\n",
            "[9 9 8 9 9]\n",
            "Maximum value of the array along axis=1 is:\n",
            "[6 9 9 9]\n"
          ]
        }
      ]
    },
    {
      "cell_type": "code",
      "source": [
        "# Example 2 – Maximum Value along Multiple Axes\n",
        "arr = np.random.randint(9, size=(2,2,4))\n",
        "print(arr)\n",
        "amax_value = np.amax(arr, axis=(0, 2))\n",
        "print('Maximum value of the array along axis=(0,2) is:')\n",
        "print(amax_value)"
      ],
      "metadata": {
        "colab": {
          "base_uri": "https://localhost:8080/",
          "height": 0
        },
        "id": "Fdt2VrwCJJWM",
        "outputId": "f1514b78-29bf-4bae-919c-1023b6f03994"
      },
      "execution_count": 231,
      "outputs": [
        {
          "output_type": "stream",
          "name": "stdout",
          "text": [
            "[[[6 4 3 2]\n",
            "  [1 3 7 6]]\n",
            "\n",
            " [[1 3 4 7]\n",
            "  [1 3 1 7]]]\n",
            "Maximum value of the array along axis=(0,2) is:\n",
            "[7 7]\n"
          ]
        }
      ]
    },
    {
      "cell_type": "markdown",
      "source": [
        "**Numpy – Statistical Functions**"
      ],
      "metadata": {
        "id": "9HDNndHiJ3cI"
      }
    },
    {
      "cell_type": "code",
      "source": [
        "# Numpy sum()\n",
        "\n",
        "# Example 1: Numpy sum()\n",
        "a = np.array([4, 5, 3, 7])\n",
        "print('input\\n',a)\n",
        "b = np.sum(a)\n",
        "print('sum\\n',b)"
      ],
      "metadata": {
        "colab": {
          "base_uri": "https://localhost:8080/",
          "height": 0
        },
        "id": "d1mrkm3aJTei",
        "outputId": "31244a89-0c44-4a81-f2ad-cbf166a1683d"
      },
      "execution_count": 232,
      "outputs": [
        {
          "output_type": "stream",
          "name": "stdout",
          "text": [
            "input\n",
            " [4 5 3 7]\n",
            "sum\n",
            " 19\n"
          ]
        }
      ]
    },
    {
      "cell_type": "code",
      "source": [
        "# Example 2: Numpy sum() along axis\n",
        "a = np.array([4, 5, 3, 7]).reshape(2, 2)\n",
        "print('input\\n',a)\n",
        "b = np.sum(a, axis=0)\n",
        "print('sum\\n',b)"
      ],
      "metadata": {
        "colab": {
          "base_uri": "https://localhost:8080/",
          "height": 0
        },
        "id": "MOdav6WmKDF1",
        "outputId": "714dc3bc-018c-4478-cc7e-755a47448d9b"
      },
      "execution_count": 233,
      "outputs": [
        {
          "output_type": "stream",
          "name": "stdout",
          "text": [
            "input\n",
            " [[4 5]\n",
            " [3 7]]\n",
            "sum\n",
            " [ 7 12]\n"
          ]
        }
      ]
    },
    {
      "cell_type": "code",
      "source": [
        "# Example 3: Specify an initial value to the sum\n",
        "a = np.array([4, 5, 3, 7])\n",
        "print('input\\n',a)\n",
        "b = np.sum(a, initial=52)\n",
        "print('sum\\n',b)"
      ],
      "metadata": {
        "colab": {
          "base_uri": "https://localhost:8080/",
          "height": 0
        },
        "id": "MvieeHmQKHGh",
        "outputId": "5ad5b54b-82c8-4647-d312-516d47af6cc4"
      },
      "execution_count": 234,
      "outputs": [
        {
          "output_type": "stream",
          "name": "stdout",
          "text": [
            "input\n",
            " [4 5 3 7]\n",
            "sum\n",
            " 71\n"
          ]
        }
      ]
    },
    {
      "cell_type": "code",
      "source": [
        "# Numpy Average\n",
        "\n",
        "# Example 1: Numpy Average\n",
        "a = np.array([4, 5, 3, 7]).reshape(2,2)\n",
        "print('input\\n',a)\n",
        "b = np.average(a)\n",
        "print('average\\n',b)"
      ],
      "metadata": {
        "colab": {
          "base_uri": "https://localhost:8080/",
          "height": 0
        },
        "id": "P6kXhczqKNaM",
        "outputId": "e1b43e76-bca1-4cf4-8dc8-1ddb7c624751"
      },
      "execution_count": 235,
      "outputs": [
        {
          "output_type": "stream",
          "name": "stdout",
          "text": [
            "input\n",
            " [[4 5]\n",
            " [3 7]]\n",
            "average\n",
            " 4.75\n"
          ]
        }
      ]
    },
    {
      "cell_type": "code",
      "source": [
        "# Example 2: Numpy average() along Axis\n",
        "a = np.array([4, 5, 3, 7]).reshape(2,2)\n",
        "print('input\\n',a)\n",
        "b = np.average(a, axis=0)\n",
        "print('average along axis=0\\n',b)\n",
        "b = np.average(a, axis=1)\n",
        "print('average along axis=1\\n',b)"
      ],
      "metadata": {
        "colab": {
          "base_uri": "https://localhost:8080/",
          "height": 0
        },
        "id": "1ARcpwaqKWUT",
        "outputId": "82067309-b0b0-4536-8ee1-34578c4bd6d3"
      },
      "execution_count": 236,
      "outputs": [
        {
          "output_type": "stream",
          "name": "stdout",
          "text": [
            "input\n",
            " [[4 5]\n",
            " [3 7]]\n",
            "average along axis=0\n",
            " [3.5 6. ]\n",
            "average along axis=1\n",
            " [4.5 5. ]\n"
          ]
        }
      ]
    },
    {
      "cell_type": "code",
      "source": [
        "# Example 3: Numpy average() with weights\n",
        "a = np.array([4, 5, 3, 7]).reshape(2,2)\n",
        "print('input\\n',a)\n",
        "b = np.average(a, axis=0, weights=[0.3,0.7])\n",
        "print('average along axis=0\\n',b)\n",
        "b = np.average(a, axis=0, weights=[0.2,0.8])\n",
        "print('average along axis=1\\n',b)"
      ],
      "metadata": {
        "colab": {
          "base_uri": "https://localhost:8080/",
          "height": 0
        },
        "id": "Yd5UvKmeKciK",
        "outputId": "7ea10a93-b6ac-481a-f94e-a33826696e8d"
      },
      "execution_count": 237,
      "outputs": [
        {
          "output_type": "stream",
          "name": "stdout",
          "text": [
            "input\n",
            " [[4 5]\n",
            " [3 7]]\n",
            "average along axis=0\n",
            " [3.3 6.4]\n",
            "average along axis=1\n",
            " [3.2 6.6]\n"
          ]
        }
      ]
    },
    {
      "cell_type": "code",
      "source": [
        "# NumPy Mean\n",
        "\n",
        "# Example 1: Mean of all the elements in a NumPy Array\n",
        "A = np.array([[2, 1], [5, 4]])\n",
        "output = np.mean(A)\n",
        "print(output)"
      ],
      "metadata": {
        "colab": {
          "base_uri": "https://localhost:8080/",
          "height": 0
        },
        "id": "M8nAJEDTKg4g",
        "outputId": "216895e4-3388-4823-d679-14ea06c12f84"
      },
      "execution_count": 238,
      "outputs": [
        {
          "output_type": "stream",
          "name": "stdout",
          "text": [
            "3.0\n"
          ]
        }
      ]
    },
    {
      "cell_type": "code",
      "source": [
        "# Example 2: Mean of elements of NumPy Array along an axis\n",
        "A = np.array([[2, 1], [5, 4]])\n",
        "output = np.mean(A, axis=0)\n",
        "print(output)"
      ],
      "metadata": {
        "colab": {
          "base_uri": "https://localhost:8080/",
          "height": 0
        },
        "id": "X-3sFoGIKpAl",
        "outputId": "a6a45389-ad00-44cd-e02d-f453f8fcc358"
      },
      "execution_count": 239,
      "outputs": [
        {
          "output_type": "stream",
          "name": "stdout",
          "text": [
            "[3.5 2.5]\n"
          ]
        }
      ]
    },
    {
      "cell_type": "code",
      "source": [
        "# Example 3: Mean of elements of NumPy Array along Multiple Axis\n",
        "A = np.array([[[2, 1], [5, 4]], [[3, 9], [6, 8]]])\n",
        "output = np.mean(A, axis=(0, 1))\n",
        "print(output)"
      ],
      "metadata": {
        "colab": {
          "base_uri": "https://localhost:8080/",
          "height": 0
        },
        "id": "i8uBMhADKtnE",
        "outputId": "d572a4ba-0d5b-42c7-fcd0-1c9df696b29a"
      },
      "execution_count": 240,
      "outputs": [
        {
          "output_type": "stream",
          "name": "stdout",
          "text": [
            "[4.  5.5]\n"
          ]
        }
      ]
    },
    {
      "cell_type": "code",
      "source": [
        "# Numpy Standard Deviation\n",
        "\n",
        "# Example 1: Numpy std()\n",
        "A = np.array([2, 1, 6])\n",
        "output = np.std(A)\n",
        "print(output)"
      ],
      "metadata": {
        "colab": {
          "base_uri": "https://localhost:8080/",
          "height": 0
        },
        "id": "BWVe3JcuKy7E",
        "outputId": "4f6ded02-7cbb-4bba-ee3c-3add956da2e6"
      },
      "execution_count": 241,
      "outputs": [
        {
          "output_type": "stream",
          "name": "stdout",
          "text": [
            "2.160246899469287\n"
          ]
        }
      ]
    },
    {
      "cell_type": "code",
      "source": [
        "# Example 2: Numpy std() – 2D Array\n",
        "A = np.array([[2, 3], [6, 5]])\n",
        "output = np.std(A)\n",
        "print(output)"
      ],
      "metadata": {
        "colab": {
          "base_uri": "https://localhost:8080/",
          "height": 0
        },
        "id": "tfofmlIqK-l-",
        "outputId": "5ab073ab-4606-43c3-ea93-b1170a4aa8cb"
      },
      "execution_count": 242,
      "outputs": [
        {
          "output_type": "stream",
          "name": "stdout",
          "text": [
            "1.5811388300841898\n"
          ]
        }
      ]
    },
    {
      "cell_type": "code",
      "source": [
        "# Example 3: Numpy std() – Along Axis\n",
        "A = np.array([[2, 3], [6, 5]])\n",
        "output = np.std(A, axis=0)\n",
        "print(output)"
      ],
      "metadata": {
        "colab": {
          "base_uri": "https://localhost:8080/",
          "height": 0
        },
        "id": "SXUQQrnnLC9D",
        "outputId": "341cac47-d90f-4603-a044-8a71d41f5fcc"
      },
      "execution_count": 243,
      "outputs": [
        {
          "output_type": "stream",
          "name": "stdout",
          "text": [
            "[2. 1.]\n"
          ]
        }
      ]
    },
    {
      "cell_type": "markdown",
      "source": [
        "**Conversions**"
      ],
      "metadata": {
        "id": "tJz-Jp57LLe9"
      }
    },
    {
      "cell_type": "code",
      "source": [
        "# Convert Numpy Array into List\n",
        "\n",
        "# Example 1\n",
        "arr = np.array([[1, 2], [3, 4]])\n",
        "x = arr.tolist()\n",
        "\n",
        "print(\"Numpy Array :\\n\", arr)\n",
        "print(\"List :\", x)"
      ],
      "metadata": {
        "colab": {
          "base_uri": "https://localhost:8080/",
          "height": 0
        },
        "id": "LbSYY1SZLHg-",
        "outputId": "93d98f88-7b67-439d-ddb6-ce7b71926038"
      },
      "execution_count": 245,
      "outputs": [
        {
          "output_type": "stream",
          "name": "stdout",
          "text": [
            "Numpy Array :\n",
            " [[1 2]\n",
            " [3 4]]\n",
            "List : [[1, 2], [3, 4]]\n"
          ]
        }
      ]
    },
    {
      "cell_type": "code",
      "source": [
        "# Convert List into Numpy Array\n",
        "\n",
        "# Example 1\n",
        "x = list([1, 2, 4, 8, 16, 32])\n",
        "arr = np.array(x)\n",
        "\n",
        "print(\"List :\", x)\n",
        "print(\"Numpy Array :\", arr)"
      ],
      "metadata": {
        "colab": {
          "base_uri": "https://localhost:8080/",
          "height": 0
        },
        "id": "1GFXPvlbLSz9",
        "outputId": "b2f63d4e-dab1-4fad-8754-1c8b71a486be"
      },
      "execution_count": 246,
      "outputs": [
        {
          "output_type": "stream",
          "name": "stdout",
          "text": [
            "List : [1, 2, 4, 8, 16, 32]\n",
            "Numpy Array : [ 1  2  4  8 16 32]\n"
          ]
        }
      ]
    },
    {
      "cell_type": "markdown",
      "source": [
        "**Numpy Logic Functions**"
      ],
      "metadata": {
        "id": "8eAuOblzLlrs"
      }
    },
    {
      "cell_type": "code",
      "source": [
        "# Numpy – all()\n",
        "\n",
        "# Example 1: all()\n",
        "arr = np.array([[True,True],[True,True]])\n",
        "result = np.all(arr)\n",
        "print(result)"
      ],
      "metadata": {
        "colab": {
          "base_uri": "https://localhost:8080/",
          "height": 0
        },
        "id": "mJzndY3mLiSy",
        "outputId": "c179f785-7fef-4d82-e1eb-7d644dc91293"
      },
      "execution_count": 247,
      "outputs": [
        {
          "output_type": "stream",
          "name": "stdout",
          "text": [
            "True\n"
          ]
        }
      ]
    },
    {
      "cell_type": "code",
      "source": [
        "# Example 2: all() – Some Elements are False\n",
        "arr = np.array([[True,True],[False,False]])\n",
        "result = np.all(arr)\n",
        "print(result)"
      ],
      "metadata": {
        "colab": {
          "base_uri": "https://localhost:8080/",
          "height": 0
        },
        "id": "C4QyfdSZLuny",
        "outputId": "0d1fa3c0-92ca-4220-b341-e2d3626a610e"
      },
      "execution_count": 248,
      "outputs": [
        {
          "output_type": "stream",
          "name": "stdout",
          "text": [
            "False\n"
          ]
        }
      ]
    },
    {
      "cell_type": "code",
      "source": [
        "# Example 3: all() – Along an Axis\n",
        "arr = np.array([[True,True], [True,False], [True,False]])\n",
        "result = np.all(arr, axis=1)\n",
        "print(result)"
      ],
      "metadata": {
        "colab": {
          "base_uri": "https://localhost:8080/",
          "height": 0
        },
        "id": "X8StQltqL52r",
        "outputId": "d88a7fe1-dddd-4aa1-a98e-75f620fc3208"
      },
      "execution_count": 249,
      "outputs": [
        {
          "output_type": "stream",
          "name": "stdout",
          "text": [
            "[ True False False]\n"
          ]
        }
      ]
    }
  ]
}